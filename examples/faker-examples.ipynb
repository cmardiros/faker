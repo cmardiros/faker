{
 "cells": [
  {
   "cell_type": "markdown",
   "metadata": {
    "toc": true
   },
   "source": [
    "<h1>Table of Contents<span class=\"tocSkip\"></span></h1>\n",
    "<div class=\"toc\"><ul class=\"toc-item\"><li><span><a href=\"#Imports\" data-toc-modified-id=\"Imports-1\">Imports</a></span></li><li><span><a href=\"#faker.faker.utils.from_function\" data-toc-modified-id=\"faker.faker.utils.from_function-2\">faker.faker.utils.from_function</a></span><ul class=\"toc-item\"><li><span><a href=\"#Normal-distribution\" data-toc-modified-id=\"Normal-distribution-2.1\">Normal distribution</a></span></li><li><span><a href=\"#Binomial-distribution\" data-toc-modified-id=\"Binomial-distribution-2.2\">Binomial distribution</a></span></li><li><span><a href=\"#Resampling\" data-toc-modified-id=\"Resampling-2.3\">Resampling</a></span></li></ul></li><li><span><a href=\"#faker.faker.utils.stacked_from_function\" data-toc-modified-id=\"faker.faker.utils.stacked_from_function-3\">faker.faker.utils.stacked_from_function</a></span></li><li><span><a href=\"#faker.distributions.ExactBernoulliSequence\" data-toc-modified-id=\"faker.distributions.ExactBernoulliSequence-4\">faker.distributions.ExactBernoulliSequence</a></span></li><li><span><a href=\"#faker.utils.generate_probs\" data-toc-modified-id=\"faker.utils.generate_probs-5\">faker.utils.generate_probs</a></span><ul class=\"toc-item\"><li><span><a href=\"#Exponential-like-probabilities\" data-toc-modified-id=\"Exponential-like-probabilities-5.1\">Exponential-like probabilities</a></span></li><li><span><a href=\"#Uniform-like\" data-toc-modified-id=\"Uniform-like-5.2\">Uniform-like</a></span></li></ul></li><li><span><a href=\"#faker.one.FakeStringValueGenerator\" data-toc-modified-id=\"faker.one.FakeStringValueGenerator-6\">faker.one.FakeStringValueGenerator</a></span></li><li><span><a href=\"#fake.pool.FakePoolGenerator\" data-toc-modified-id=\"fake.pool.FakePoolGenerator-7\">fake.pool.FakePoolGenerator</a></span><ul class=\"toc-item\"><li><span><a href=\"#from_function\" data-toc-modified-id=\"from_function-7.1\">from_function</a></span></li><li><span><a href=\"#ints\" data-toc-modified-id=\"ints-7.2\">ints</a></span></li><li><span><a href=\"#counts\" data-toc-modified-id=\"counts-7.3\">counts</a></span></li><li><span><a href=\"#floats\" data-toc-modified-id=\"floats-7.4\">floats</a></span></li><li><span><a href=\"#ints_sequence\" data-toc-modified-id=\"ints_sequence-7.5\">ints_sequence</a></span></li><li><span><a href=\"#strings\" data-toc-modified-id=\"strings-7.6\">strings</a></span></li><li><span><a href=\"#dates\" data-toc-modified-id=\"dates-7.7\">dates</a></span></li><li><span><a href=\"#tstamps\" data-toc-modified-id=\"tstamps-7.8\">tstamps</a></span></li></ul></li><li><span><a href=\"#faker.column.FakeColumnGenerator\" data-toc-modified-id=\"faker.column.FakeColumnGenerator-8\">faker.column.FakeColumnGenerator</a></span><ul class=\"toc-item\"><li><span><a href=\"#custom-resample-pool---sequence-of-ints\" data-toc-modified-id=\"custom-resample-pool---sequence-of-ints-8.1\">custom resample pool - sequence of ints</a></span><ul class=\"toc-item\"><li><span><a href=\"#Uniform-probability\" data-toc-modified-id=\"Uniform-probability-8.1.1\">Uniform probability</a></span></li><li><span><a href=\"#Exponential-probability\" data-toc-modified-id=\"Exponential-probability-8.1.2\">Exponential probability</a></span></li><li><span><a href=\"#Custom-probabilities\" data-toc-modified-id=\"Custom-probabilities-8.1.3\">Custom probabilities</a></span></li></ul></li><li><span><a href=\"#custom-resample-pool---strings\" data-toc-modified-id=\"custom-resample-pool---strings-8.2\">custom resample pool - strings</a></span></li><li><span><a href=\"#custom-resample-pool---counts-like\" data-toc-modified-id=\"custom-resample-pool---counts-like-8.3\">custom resample pool - counts-like</a></span></li><li><span><a href=\"#generate-and-resample-from-counts-pool\" data-toc-modified-id=\"generate-and-resample-from-counts-pool-8.4\">generate and resample from counts pool</a></span></li><li><span><a href=\"#generate-and-resample-from-ints_sequence-pool\" data-toc-modified-id=\"generate-and-resample-from-ints_sequence-pool-8.5\">generate and resample from ints_sequence pool</a></span></li><li><span><a href=\"#generate-and-resample-from-floats-pool\" data-toc-modified-id=\"generate-and-resample-from-floats-pool-8.6\">generate and resample from floats pool</a></span></li><li><span><a href=\"#generate-and-resample-from-strings-pool\" data-toc-modified-id=\"generate-and-resample-from-strings-pool-8.7\">generate and resample from strings pool</a></span><ul class=\"toc-item\"><li><span><a href=\"#Uniform-frequency-probability\" data-toc-modified-id=\"Uniform-frequency-probability-8.7.1\">Uniform frequency probability</a></span></li><li><span><a href=\"#Exponential-frequency-probability\" data-toc-modified-id=\"Exponential-frequency-probability-8.7.2\">Exponential frequency probability</a></span></li></ul></li><li><span><a href=\"#dates-and-(conditional)-timestamps\" data-toc-modified-id=\"dates-and-(conditional)-timestamps-8.8\">dates and (conditional) timestamps</a></span></li><li><span><a href=\"#nested-categories\" data-toc-modified-id=\"nested-categories-8.9\">nested categories</a></span><ul class=\"toc-item\"><li><span><a href=\"#level-1---country\" data-toc-modified-id=\"level-1---country-8.9.1\">level 1 - country</a></span></li><li><span><a href=\"#level-2---channel\" data-toc-modified-id=\"level-2---channel-8.9.2\">level 2 - channel</a></span></li></ul></li></ul></li><li><span><a href=\"#faker.data.FakeDataGenerator\" data-toc-modified-id=\"faker.data.FakeDataGenerator-9\">faker.data.FakeDataGenerator</a></span><ul class=\"toc-item\"><li><span><a href=\"#Extended-dataset\" data-toc-modified-id=\"Extended-dataset-9.1\">Extended dataset</a></span></li></ul></li></ul></div>"
   ]
  },
  {
   "cell_type": "code",
   "execution_count": 75,
   "metadata": {
    "ExecuteTime": {
     "end_time": "2018-03-20T15:16:00.816396Z",
     "start_time": "2018-03-20T15:16:00.766653Z"
    }
   },
   "outputs": [
    {
     "name": "stdout",
     "output_type": "stream",
     "text": [
      "The autoreload extension is already loaded. To reload it, use:\n",
      "  %reload_ext autoreload\n"
     ]
    }
   ],
   "source": [
    "%load_ext autoreload\n",
    "%autoreload 2\n",
    "%matplotlib inline"
   ]
  },
  {
   "cell_type": "markdown",
   "metadata": {},
   "source": [
    "## Imports"
   ]
  },
  {
   "cell_type": "code",
   "execution_count": 76,
   "metadata": {
    "ExecuteTime": {
     "end_time": "2018-03-20T15:16:00.838389Z",
     "start_time": "2018-03-20T15:16:00.818074Z"
    }
   },
   "outputs": [],
   "source": [
    "import seaborn as sns\n",
    "import numpy as np\n",
    "import pandas as pd\n",
    "import datetime as dt\n",
    "import matplotlib.pyplot as plt\n",
    "import matplotlib as mpl\n",
    "from scipy import stats\n",
    "\n",
    "import faker\n",
    "from faker import (utils,\n",
    "                   distributions,\n",
    "                   one,\n",
    "                   pool,\n",
    "                   column,\n",
    "                   data,\n",
    "                   inspect)\n",
    "import seabornextends as snsexts\n",
    "import dsutils\n",
    "from dsutils.pandas import cats\n",
    "from seabornextends import plots, retouch\n",
    "from seabornextends.retouch import grid, ax, fig"
   ]
  },
  {
   "cell_type": "code",
   "execution_count": 77,
   "metadata": {
    "ExecuteTime": {
     "end_time": "2018-03-20T15:16:01.803775Z",
     "start_time": "2018-03-20T15:16:01.790634Z"
    }
   },
   "outputs": [],
   "source": [
    "sns.set_style('whitegrid')\n",
    "mpl.rcParams['grid.color'] = '0.95'\n",
    "mpl.rcParams['grid.alpha'] = 0.8"
   ]
  },
  {
   "cell_type": "markdown",
   "metadata": {
    "ExecuteTime": {
     "end_time": "2018-03-19T18:18:36.263269Z",
     "start_time": "2018-03-19T18:18:36.260839Z"
    }
   },
   "source": [
    "## faker.faker.utils.from_function"
   ]
  },
  {
   "cell_type": "markdown",
   "metadata": {},
   "source": [
    "### Normal distribution"
   ]
  },
  {
   "cell_type": "markdown",
   "metadata": {},
   "source": [
    "100 rows and 3 columns:"
   ]
  },
  {
   "cell_type": "code",
   "execution_count": 78,
   "metadata": {
    "ExecuteTime": {
     "end_time": "2018-03-20T15:16:01.879741Z",
     "start_time": "2018-03-20T15:16:01.854352Z"
    }
   },
   "outputs": [
    {
     "name": "stdout",
     "output_type": "stream",
     "text": [
      "(100, 3)\n"
     ]
    },
    {
     "data": {
      "text/plain": [
       "array([[-20.56498383, -16.58157905, -10.25924683],\n",
       "       [ -5.98268295, -16.76371146,  -5.59604853],\n",
       "       [-17.61454947, -15.9900912 , -16.09602412],\n",
       "       [-22.36444595, -17.79817874, -18.57783612],\n",
       "       [  6.60503518, -14.19724491,   7.94239268]])"
      ]
     },
     "execution_count": 78,
     "metadata": {},
     "output_type": "execute_result"
    }
   ],
   "source": [
    "data = faker.utils.from_function(func=stats.norm.rvs,\n",
    "                                 func_kws=dict(loc=-10, scale=10, size=3),\n",
    "                                 func_seed_arg='random_state',\n",
    "                                 iters=100,\n",
    "                                 seed=12345)\n",
    "print(data.shape)\n",
    "data[0:5]"
   ]
  },
  {
   "cell_type": "markdown",
   "metadata": {},
   "source": [
    "100 rows and 1 columns:"
   ]
  },
  {
   "cell_type": "code",
   "execution_count": 79,
   "metadata": {
    "ExecuteTime": {
     "end_time": "2018-03-20T15:16:01.905750Z",
     "start_time": "2018-03-20T15:16:01.881289Z"
    }
   },
   "outputs": [
    {
     "name": "stdout",
     "output_type": "stream",
     "text": [
      "(100, 1)\n"
     ]
    },
    {
     "data": {
      "text/plain": [
       "array([[-20.56498383],\n",
       "       [ -5.98268295],\n",
       "       [-17.61454947],\n",
       "       [-22.36444595],\n",
       "       [  6.60503518]])"
      ]
     },
     "execution_count": 79,
     "metadata": {},
     "output_type": "execute_result"
    }
   ],
   "source": [
    "data = faker.utils.from_function(func=stats.norm.rvs,\n",
    "                                 func_kws=dict(loc=-10, scale=10, size=1),\n",
    "                                 func_seed_arg='random_state',\n",
    "                                 iters=100,\n",
    "                                 seed=12345)\n",
    "print(data.shape)\n",
    "data[0:5]"
   ]
  },
  {
   "cell_type": "markdown",
   "metadata": {},
   "source": [
    "100 columns and 1 rows:"
   ]
  },
  {
   "cell_type": "code",
   "execution_count": 80,
   "metadata": {
    "ExecuteTime": {
     "end_time": "2018-03-20T15:16:02.445257Z",
     "start_time": "2018-03-20T15:16:02.425580Z"
    }
   },
   "outputs": [
    {
     "name": "stdout",
     "output_type": "stream",
     "text": [
      "(1, 100)\n"
     ]
    },
    {
     "data": {
      "text/plain": [
       "array([[-20.56498383, -16.58157905, -10.25924683,  -8.46104295,\n",
       "        -15.41746537,  -9.99678915, -26.27126747,   7.69835148,\n",
       "        -13.91806478,  -1.06117182, -12.1692825 , -21.57342025,\n",
       "        -23.88830152,  -6.12834447,  -7.48338989, -12.63380979,\n",
       "         -7.05148725, -40.9151316 ,   3.82734078,  -8.98723715,\n",
       "        -14.02564756, -16.93011922, -24.02644884, -19.91704377,\n",
       "          6.90226543,   1.18988829, -13.87250397,  -2.92207909,\n",
       "        -23.09240358, -24.80706638,   6.50692768,  -0.87485689,\n",
       "        -19.30398733, -16.69649575,   2.9689097 ,  -6.92931107,\n",
       "        -29.54560015,  -0.97696515,  -5.07512993,   7.33757507,\n",
       "        -20.43218786, -12.3465615 , -13.87641303,  -6.29610882,\n",
       "        -11.03083197,  -6.83022625, -12.72206658,  -7.83731741,\n",
       "         -4.00217433, -10.59097109,  -0.25519774,  -9.82296444,\n",
       "          3.4644472 , -17.31052039, -23.15432365,   9.34572935,\n",
       "        -17.54330877,   8.22360858, -24.23864635,  -4.58714205,\n",
       "        -18.70832948,  -1.22959647, -23.28420327,   0.71794652,\n",
       "        -12.89426075,   1.10529864,  -0.47208602,  -6.24777834,\n",
       "        -25.44688171, -16.27089226,  -4.78655193,  -7.24732143,\n",
       "        -16.39105346,  -6.29592442, -16.39929139, -20.61004158,\n",
       "          1.58835965, -29.80092277,  -4.42617634, -17.07928264,\n",
       "         -5.6582661 ,  -2.192255  , -12.68629368,  -8.48644551,\n",
       "        -21.25825571, -11.17862034, -16.7689375 , -23.72005951,\n",
       "        -16.16700342, -15.42689704, -22.62136501, -12.52706617,\n",
       "        -20.62351978,   8.12969622,  -4.9511947 , -19.68725077,\n",
       "         11.15630613,  -4.22745442,  -3.50250123, -19.20024646]])"
      ]
     },
     "execution_count": 80,
     "metadata": {},
     "output_type": "execute_result"
    }
   ],
   "source": [
    "data = faker.utils.from_function(func=stats.norm.rvs,\n",
    "                                 func_kws=dict(loc=-10, scale=10, size=100),\n",
    "                                 func_seed_arg='random_state',\n",
    "                                 iters=1,\n",
    "                                 seed=12345)\n",
    "print(data.shape)\n",
    "data[0:5]"
   ]
  },
  {
   "cell_type": "markdown",
   "metadata": {
    "ExecuteTime": {
     "end_time": "2018-03-19T18:20:07.906408Z",
     "start_time": "2018-03-19T18:20:07.904221Z"
    }
   },
   "source": [
    "### Binomial distribution"
   ]
  },
  {
   "cell_type": "code",
   "execution_count": 81,
   "metadata": {
    "ExecuteTime": {
     "end_time": "2018-03-20T15:16:02.805785Z",
     "start_time": "2018-03-20T15:16:02.780740Z"
    }
   },
   "outputs": [
    {
     "name": "stdout",
     "output_type": "stream",
     "text": [
      "(100, 3)\n"
     ]
    },
    {
     "data": {
      "text/plain": [
       "array([[ 8,  8, 12],\n",
       "       [ 7, 12,  8],\n",
       "       [ 8,  7,  7],\n",
       "       [ 9,  8, 12],\n",
       "       [ 9, 12,  9]])"
      ]
     },
     "execution_count": 81,
     "metadata": {},
     "output_type": "execute_result"
    }
   ],
   "source": [
    "data = faker.utils.from_function(func=stats.binom.rvs,\n",
    "                                 func_kws=dict(n=100, p=0.1, size=3),\n",
    "                                 func_seed_arg='random_state',\n",
    "                                 iters=100,\n",
    "                                 seed=12345)\n",
    "print(data.shape)\n",
    "data[0:5]"
   ]
  },
  {
   "cell_type": "markdown",
   "metadata": {},
   "source": [
    "### Resampling"
   ]
  },
  {
   "cell_type": "code",
   "execution_count": 82,
   "metadata": {
    "ExecuteTime": {
     "end_time": "2018-03-20T15:16:02.851914Z",
     "start_time": "2018-03-20T15:16:02.807510Z"
    }
   },
   "outputs": [
    {
     "name": "stdout",
     "output_type": "stream",
     "text": [
      "(1000, 10)\n"
     ]
    },
    {
     "data": {
      "text/plain": [
       "array([[3, 6, 6, 2, 5, 2, 6, 3, 6, 2],\n",
       "       [2, 4, 2, 4, 1, 3, 2, 4, 6, 3],\n",
       "       [2, 3, 4, 6, 1, 6, 2, 4, 5, 1],\n",
       "       [4, 5, 5, 6, 4, 4, 2, 4, 6, 3],\n",
       "       [6, 4, 1, 6, 3, 5, 6, 4, 4, 5]])"
      ]
     },
     "execution_count": 82,
     "metadata": {},
     "output_type": "execute_result"
    }
   ],
   "source": [
    "prng = np.random.RandomState(seed=12345)\n",
    "data = faker.utils.from_function(func=prng.choice,\n",
    "                                 func_kws=dict(a=np.arange(1, 7, 1),\n",
    "                                               size=10, replace=True),\n",
    "                                 iters=1000,\n",
    "                                 seed=12345)\n",
    "print(data.shape)\n",
    "data[0:5]"
   ]
  },
  {
   "cell_type": "markdown",
   "metadata": {},
   "source": [
    "## faker.faker.utils.stacked_from_function"
   ]
  },
  {
   "cell_type": "code",
   "execution_count": 83,
   "metadata": {
    "ExecuteTime": {
     "end_time": "2018-03-20T15:16:03.273448Z",
     "start_time": "2018-03-20T15:16:02.853380Z"
    }
   },
   "outputs": [
    {
     "data": {
      "text/html": [
       "<div>\n",
       "<style scoped>\n",
       "    .dataframe tbody tr th:only-of-type {\n",
       "        vertical-align: middle;\n",
       "    }\n",
       "\n",
       "    .dataframe tbody tr th {\n",
       "        vertical-align: top;\n",
       "    }\n",
       "\n",
       "    .dataframe thead th {\n",
       "        text-align: right;\n",
       "    }\n",
       "</style>\n",
       "<table border=\"1\" class=\"dataframe\">\n",
       "  <thead>\n",
       "    <tr style=\"text-align: right;\">\n",
       "      <th></th>\n",
       "      <th>random_value</th>\n",
       "      <th>loc</th>\n",
       "      <th>scale</th>\n",
       "    </tr>\n",
       "  </thead>\n",
       "  <tbody>\n",
       "    <tr>\n",
       "      <th>0</th>\n",
       "      <td>-1.169495</td>\n",
       "      <td>2</td>\n",
       "      <td>3</td>\n",
       "    </tr>\n",
       "    <tr>\n",
       "      <th>1</th>\n",
       "      <td>3.205195</td>\n",
       "      <td>2</td>\n",
       "      <td>3</td>\n",
       "    </tr>\n",
       "    <tr>\n",
       "      <th>2</th>\n",
       "      <td>-0.284365</td>\n",
       "      <td>2</td>\n",
       "      <td>3</td>\n",
       "    </tr>\n",
       "    <tr>\n",
       "      <th>3</th>\n",
       "      <td>-1.709334</td>\n",
       "      <td>2</td>\n",
       "      <td>3</td>\n",
       "    </tr>\n",
       "    <tr>\n",
       "      <th>4</th>\n",
       "      <td>6.981511</td>\n",
       "      <td>2</td>\n",
       "      <td>3</td>\n",
       "    </tr>\n",
       "  </tbody>\n",
       "</table>\n",
       "</div>"
      ],
      "text/plain": [
       "   random_value loc scale\n",
       "0     -1.169495   2     3\n",
       "1      3.205195   2     3\n",
       "2     -0.284365   2     3\n",
       "3     -1.709334   2     3\n",
       "4      6.981511   2     3"
      ]
     },
     "execution_count": 83,
     "metadata": {},
     "output_type": "execute_result"
    }
   ],
   "source": [
    "shape_grid = {\n",
    "    'loc': [2, 4, 6],\n",
    "    'scale': [3, 6, 9],\n",
    "}\n",
    "\n",
    "df = faker.utils.stacked_from_function(func=stats.norm.rvs,\n",
    "                                       func_seed_arg='random_state',\n",
    "                                       param_grid=shape_grid,\n",
    "                                       col_names=['random_value'],\n",
    "                                       iters=1000,\n",
    "                                       seed=12345)\n",
    "df.head()"
   ]
  },
  {
   "cell_type": "code",
   "execution_count": 84,
   "metadata": {
    "ExecuteTime": {
     "end_time": "2018-03-20T15:16:03.295615Z",
     "start_time": "2018-03-20T15:16:03.274924Z"
    }
   },
   "outputs": [
    {
     "data": {
      "text/html": [
       "<div>\n",
       "<style scoped>\n",
       "    .dataframe tbody tr th:only-of-type {\n",
       "        vertical-align: middle;\n",
       "    }\n",
       "\n",
       "    .dataframe tbody tr th {\n",
       "        vertical-align: top;\n",
       "    }\n",
       "\n",
       "    .dataframe thead th {\n",
       "        text-align: right;\n",
       "    }\n",
       "</style>\n",
       "<table border=\"1\" class=\"dataframe\">\n",
       "  <thead>\n",
       "    <tr style=\"text-align: right;\">\n",
       "      <th></th>\n",
       "      <th></th>\n",
       "      <th>len</th>\n",
       "    </tr>\n",
       "    <tr>\n",
       "      <th>loc</th>\n",
       "      <th>scale</th>\n",
       "      <th></th>\n",
       "    </tr>\n",
       "  </thead>\n",
       "  <tbody>\n",
       "    <tr>\n",
       "      <th rowspan=\"3\" valign=\"top\">2</th>\n",
       "      <th>3</th>\n",
       "      <td>1000.0</td>\n",
       "    </tr>\n",
       "    <tr>\n",
       "      <th>6</th>\n",
       "      <td>1000.0</td>\n",
       "    </tr>\n",
       "    <tr>\n",
       "      <th>9</th>\n",
       "      <td>1000.0</td>\n",
       "    </tr>\n",
       "    <tr>\n",
       "      <th rowspan=\"3\" valign=\"top\">4</th>\n",
       "      <th>3</th>\n",
       "      <td>1000.0</td>\n",
       "    </tr>\n",
       "    <tr>\n",
       "      <th>6</th>\n",
       "      <td>1000.0</td>\n",
       "    </tr>\n",
       "    <tr>\n",
       "      <th>9</th>\n",
       "      <td>1000.0</td>\n",
       "    </tr>\n",
       "    <tr>\n",
       "      <th rowspan=\"3\" valign=\"top\">6</th>\n",
       "      <th>3</th>\n",
       "      <td>1000.0</td>\n",
       "    </tr>\n",
       "    <tr>\n",
       "      <th>6</th>\n",
       "      <td>1000.0</td>\n",
       "    </tr>\n",
       "    <tr>\n",
       "      <th>9</th>\n",
       "      <td>1000.0</td>\n",
       "    </tr>\n",
       "  </tbody>\n",
       "</table>\n",
       "</div>"
      ],
      "text/plain": [
       "              len\n",
       "loc scale        \n",
       "2   3      1000.0\n",
       "    6      1000.0\n",
       "    9      1000.0\n",
       "4   3      1000.0\n",
       "    6      1000.0\n",
       "    9      1000.0\n",
       "6   3      1000.0\n",
       "    6      1000.0\n",
       "    9      1000.0"
      ]
     },
     "execution_count": 84,
     "metadata": {},
     "output_type": "execute_result"
    }
   ],
   "source": [
    "df.groupby(['loc', 'scale']).agg([len])['random_value']"
   ]
  },
  {
   "cell_type": "code",
   "execution_count": 85,
   "metadata": {
    "ExecuteTime": {
     "end_time": "2018-03-20T15:16:03.982221Z",
     "start_time": "2018-03-20T15:16:03.297056Z"
    }
   },
   "outputs": [
    {
     "data": {
      "text/plain": [
       "<seaborn.axisgrid.FacetGrid at 0x7f457588ae80>"
      ]
     },
     "execution_count": 85,
     "metadata": {},
     "output_type": "execute_result"
    },
    {
     "data": {
      "image/png": "[encoded data removed]",
      "text/plain": [
       "<Figure size 648x648 with 9 Axes>"
      ]
     },
     "metadata": {},
     "output_type": "display_data"
    }
   ],
   "source": [
    "snsexts.plots.distplot(a='random_value',\n",
    "                       data=df,\n",
    "                       row='loc',\n",
    "                       col='scale',\n",
    "                       distplot_kws={'hist': False})"
   ]
  },
  {
   "cell_type": "code",
   "execution_count": 86,
   "metadata": {
    "ExecuteTime": {
     "end_time": "2018-03-20T15:16:04.666228Z",
     "start_time": "2018-03-20T15:16:03.983634Z"
    }
   },
   "outputs": [
    {
     "name": "stderr",
     "output_type": "stream",
     "text": [
      "/home/cmardiros/anaconda3/envs/py36/lib/python3.6/site-packages/seaborn/axisgrid.py:703: UserWarning: Using the violinplot function without specifying `order` is likely to produce an incorrect plot.\n",
      "  warnings.warn(warning)\n"
     ]
    },
    {
     "data": {
      "text/plain": [
       "<seaborn.axisgrid.FacetGrid at 0x7f4574cd4b70>"
      ]
     },
     "execution_count": 86,
     "metadata": {},
     "output_type": "execute_result"
    },
    {
     "data": {
      "image/png": "[encoded data removed]",
      "text/plain": [
       "<Figure size 648x648 with 9 Axes>"
      ]
     },
     "metadata": {},
     "output_type": "display_data"
    }
   ],
   "source": [
    "snsexts.plots.violinplot(a='random_value',\n",
    "                         data=df,\n",
    "                         row='loc',\n",
    "                         col='scale',\n",
    "                         violin_kws={'orient': 'h'})"
   ]
  },
  {
   "cell_type": "code",
   "execution_count": 87,
   "metadata": {
    "ExecuteTime": {
     "end_time": "2018-03-20T15:16:05.237149Z",
     "start_time": "2018-03-20T15:16:04.667644Z"
    }
   },
   "outputs": [
    {
     "name": "stderr",
     "output_type": "stream",
     "text": [
      "/home/cmardiros/anaconda3/envs/py36/lib/python3.6/site-packages/seaborn/axisgrid.py:703: UserWarning: Using the boxplot function without specifying `order` is likely to produce an incorrect plot.\n",
      "  warnings.warn(warning)\n"
     ]
    },
    {
     "data": {
      "text/plain": [
       "<seaborn.axisgrid.FacetGrid at 0x7f4575083080>"
      ]
     },
     "execution_count": 87,
     "metadata": {},
     "output_type": "execute_result"
    },
    {
     "data": {
      "image/png": "[encoded data removed]",
      "text/plain": [
       "<Figure size 648x648 with 9 Axes>"
      ]
     },
     "metadata": {},
     "output_type": "display_data"
    }
   ],
   "source": [
    "snsexts.plots.boxplot(a='random_value',\n",
    "                      data=df,\n",
    "                      row='loc',\n",
    "                      col='scale',\n",
    "                      box_kws={'orient': 'h'})"
   ]
  },
  {
   "cell_type": "code",
   "execution_count": 88,
   "metadata": {
    "ExecuteTime": {
     "end_time": "2018-03-20T15:16:05.760091Z",
     "start_time": "2018-03-20T15:16:05.238588Z"
    }
   },
   "outputs": [
    {
     "data": {
      "text/html": [
       "<div>\n",
       "<style scoped>\n",
       "    .dataframe tbody tr th:only-of-type {\n",
       "        vertical-align: middle;\n",
       "    }\n",
       "\n",
       "    .dataframe tbody tr th {\n",
       "        vertical-align: top;\n",
       "    }\n",
       "\n",
       "    .dataframe thead th {\n",
       "        text-align: right;\n",
       "    }\n",
       "</style>\n",
       "<table border=\"1\" class=\"dataframe\">\n",
       "  <thead>\n",
       "    <tr style=\"text-align: right;\">\n",
       "      <th></th>\n",
       "      <th>col_0</th>\n",
       "      <th>col_1</th>\n",
       "      <th>col_2</th>\n",
       "      <th>col_3</th>\n",
       "      <th>col_4</th>\n",
       "      <th>col_5</th>\n",
       "      <th>col_6</th>\n",
       "      <th>loc</th>\n",
       "      <th>scale</th>\n",
       "      <th>size</th>\n",
       "    </tr>\n",
       "  </thead>\n",
       "  <tbody>\n",
       "    <tr>\n",
       "      <th>0</th>\n",
       "      <td>-1.169495</td>\n",
       "      <td>0.025526</td>\n",
       "      <td>1.922226</td>\n",
       "      <td>2.461687</td>\n",
       "      <td>0.374760</td>\n",
       "      <td>2.000963</td>\n",
       "      <td>-2.881380</td>\n",
       "      <td>2</td>\n",
       "      <td>3</td>\n",
       "      <td>7</td>\n",
       "    </tr>\n",
       "    <tr>\n",
       "      <th>1</th>\n",
       "      <td>3.205195</td>\n",
       "      <td>-0.029113</td>\n",
       "      <td>3.321185</td>\n",
       "      <td>-3.839838</td>\n",
       "      <td>-2.699327</td>\n",
       "      <td>6.842157</td>\n",
       "      <td>2.489610</td>\n",
       "      <td>2</td>\n",
       "      <td>3</td>\n",
       "      <td>7</td>\n",
       "    </tr>\n",
       "    <tr>\n",
       "      <th>2</th>\n",
       "      <td>-0.284365</td>\n",
       "      <td>0.202973</td>\n",
       "      <td>0.171193</td>\n",
       "      <td>-0.629978</td>\n",
       "      <td>2.845884</td>\n",
       "      <td>5.425237</td>\n",
       "      <td>4.057410</td>\n",
       "      <td>2</td>\n",
       "      <td>3</td>\n",
       "      <td>7</td>\n",
       "    </tr>\n",
       "    <tr>\n",
       "      <th>3</th>\n",
       "      <td>-1.709334</td>\n",
       "      <td>-0.339454</td>\n",
       "      <td>-0.573351</td>\n",
       "      <td>5.858775</td>\n",
       "      <td>-2.299543</td>\n",
       "      <td>5.430378</td>\n",
       "      <td>3.221189</td>\n",
       "      <td>2</td>\n",
       "      <td>3</td>\n",
       "      <td>7</td>\n",
       "    </tr>\n",
       "    <tr>\n",
       "      <th>4</th>\n",
       "      <td>6.981511</td>\n",
       "      <td>0.740827</td>\n",
       "      <td>7.382718</td>\n",
       "      <td>-1.558207</td>\n",
       "      <td>-1.358959</td>\n",
       "      <td>6.219437</td>\n",
       "      <td>3.373441</td>\n",
       "      <td>2</td>\n",
       "      <td>3</td>\n",
       "      <td>7</td>\n",
       "    </tr>\n",
       "  </tbody>\n",
       "</table>\n",
       "</div>"
      ],
      "text/plain": [
       "      col_0     col_1     col_2     col_3     col_4     col_5     col_6 loc  \\\n",
       "0 -1.169495  0.025526  1.922226  2.461687  0.374760  2.000963 -2.881380   2   \n",
       "1  3.205195 -0.029113  3.321185 -3.839838 -2.699327  6.842157  2.489610   2   \n",
       "2 -0.284365  0.202973  0.171193 -0.629978  2.845884  5.425237  4.057410   2   \n",
       "3 -1.709334 -0.339454 -0.573351  5.858775 -2.299543  5.430378  3.221189   2   \n",
       "4  6.981511  0.740827  7.382718 -1.558207 -1.358959  6.219437  3.373441   2   \n",
       "\n",
       "  scale size  \n",
       "0     3    7  \n",
       "1     3    7  \n",
       "2     3    7  \n",
       "3     3    7  \n",
       "4     3    7  "
      ]
     },
     "execution_count": 88,
     "metadata": {},
     "output_type": "execute_result"
    }
   ],
   "source": [
    "# generate 1000 rows each one with 7 columns\n",
    "shape_grid = {\n",
    "    'loc': [2, 4, 6],\n",
    "    'scale': [3, 6, 9],\n",
    "    'size': [7],  # generate 7 columns in each row\n",
    "}\n",
    "\n",
    "df = faker.utils.stacked_from_function(func=stats.norm.rvs,\n",
    "                                       func_seed_arg='random_state',\n",
    "                                       param_grid=shape_grid,\n",
    "                                       iters=1000,\n",
    "                                       seed=12345)\n",
    "df.head()"
   ]
  },
  {
   "cell_type": "code",
   "execution_count": 89,
   "metadata": {
    "ExecuteTime": {
     "end_time": "2018-03-20T15:16:06.280993Z",
     "start_time": "2018-03-20T15:16:05.761530Z"
    }
   },
   "outputs": [
    {
     "data": {
      "text/html": [
       "<div>\n",
       "<style scoped>\n",
       "    .dataframe tbody tr th:only-of-type {\n",
       "        vertical-align: middle;\n",
       "    }\n",
       "\n",
       "    .dataframe tbody tr th {\n",
       "        vertical-align: top;\n",
       "    }\n",
       "\n",
       "    .dataframe thead th {\n",
       "        text-align: right;\n",
       "    }\n",
       "</style>\n",
       "<table border=\"1\" class=\"dataframe\">\n",
       "  <thead>\n",
       "    <tr style=\"text-align: right;\">\n",
       "      <th></th>\n",
       "      <th>2.5th_percentile</th>\n",
       "      <th>loc</th>\n",
       "      <th>scale</th>\n",
       "      <th>size</th>\n",
       "    </tr>\n",
       "  </thead>\n",
       "  <tbody>\n",
       "    <tr>\n",
       "      <th>0</th>\n",
       "      <td>-2.878812</td>\n",
       "      <td>2</td>\n",
       "      <td>3</td>\n",
       "      <td>7</td>\n",
       "    </tr>\n",
       "    <tr>\n",
       "      <th>1</th>\n",
       "      <td>-3.838127</td>\n",
       "      <td>2</td>\n",
       "      <td>3</td>\n",
       "      <td>7</td>\n",
       "    </tr>\n",
       "    <tr>\n",
       "      <th>2</th>\n",
       "      <td>-0.629460</td>\n",
       "      <td>2</td>\n",
       "      <td>3</td>\n",
       "      <td>7</td>\n",
       "    </tr>\n",
       "    <tr>\n",
       "      <th>3</th>\n",
       "      <td>-2.298658</td>\n",
       "      <td>2</td>\n",
       "      <td>3</td>\n",
       "      <td>7</td>\n",
       "    </tr>\n",
       "    <tr>\n",
       "      <th>4</th>\n",
       "      <td>-1.557908</td>\n",
       "      <td>2</td>\n",
       "      <td>3</td>\n",
       "      <td>7</td>\n",
       "    </tr>\n",
       "  </tbody>\n",
       "</table>\n",
       "</div>"
      ],
      "text/plain": [
       "   2.5th_percentile loc scale size\n",
       "0         -2.878812   2     3    7\n",
       "1         -3.838127   2     3    7\n",
       "2         -0.629460   2     3    7\n",
       "3         -2.298658   2     3    7\n",
       "4         -1.557908   2     3    7"
      ]
     },
     "execution_count": 89,
     "metadata": {},
     "output_type": "execute_result"
    }
   ],
   "source": [
    "# generate 1000 rows each one with 7 columns\n",
    "# and summarize each row using the 2.5th percentile of all the values in the row\n",
    "shape_grid = {\n",
    "    'loc': [2, 4, 6],\n",
    "    'scale': [3, 6, 9],\n",
    "    'size': [7],  # generate 7 columns in each row\n",
    "}\n",
    "\n",
    "df = faker.utils.stacked_from_function(func=stats.norm.rvs,\n",
    "                                       func_seed_arg='random_state',\n",
    "                                       param_grid=shape_grid,\n",
    "                                       apply_func=np.percentile,\n",
    "                                       apply_func_kws={'q': .025},\n",
    "                                       col_names=['2.5th_percentile'],\n",
    "                                       iters=1000,\n",
    "                                       seed=12345)\n",
    "df.head()"
   ]
  },
  {
   "cell_type": "code",
   "execution_count": 90,
   "metadata": {
    "ExecuteTime": {
     "end_time": "2018-03-20T15:16:06.945471Z",
     "start_time": "2018-03-20T15:16:06.282385Z"
    }
   },
   "outputs": [
    {
     "data": {
      "text/plain": [
       "<seaborn.axisgrid.FacetGrid at 0x7f45742e01d0>"
      ]
     },
     "execution_count": 90,
     "metadata": {},
     "output_type": "execute_result"
    },
    {
     "data": {
      "image/png": "[encoded data removed]",
      "text/plain": [
       "<Figure size 648x648 with 9 Axes>"
      ]
     },
     "metadata": {},
     "output_type": "display_data"
    }
   ],
   "source": [
    "snsexts.plots.distplot(a='2.5th_percentile',\n",
    "                       data=df,\n",
    "                       row='loc',\n",
    "                       col='scale',\n",
    "                       distplot_kws={'hist': False})"
   ]
  },
  {
   "cell_type": "markdown",
   "metadata": {},
   "source": [
    "## faker.distributions.ExactBernoulliSequence"
   ]
  },
  {
   "cell_type": "code",
   "execution_count": 91,
   "metadata": {
    "ExecuteTime": {
     "end_time": "2018-03-20T15:16:06.966757Z",
     "start_time": "2018-03-20T15:16:06.947852Z"
    }
   },
   "outputs": [
    {
     "name": "stdout",
     "output_type": "stream",
     "text": [
      "30.0\n",
      "0.3\n"
     ]
    },
    {
     "data": {
      "text/plain": [
       "array([0., 0., 1., 0., 0., 0., 0., 0., 1., 0.])"
      ]
     },
     "execution_count": 91,
     "metadata": {},
     "output_type": "execute_result"
    }
   ],
   "source": [
    "generator = faker.distributions.ExactBernoulliSequence(p=0.3)\n",
    "data = generator.rvs(size=100, random_state=12345)\n",
    "print(data.sum())\n",
    "print(data.mean())\n",
    "data[0:10]"
   ]
  },
  {
   "cell_type": "markdown",
   "metadata": {},
   "source": [
    "## faker.utils.generate_probs"
   ]
  },
  {
   "cell_type": "code",
   "execution_count": 92,
   "metadata": {
    "ExecuteTime": {
     "end_time": "2018-03-20T15:16:06.994696Z",
     "start_time": "2018-03-20T15:16:06.968418Z"
    }
   },
   "outputs": [],
   "source": [
    "# data to resample from with our new probabilities\n",
    "pool = np.arange(1, 101, 1)\n",
    "n_pool = pool.shape[0]\n",
    "n_resample = n_pool * 10"
   ]
  },
  {
   "cell_type": "markdown",
   "metadata": {},
   "source": [
    "### Exponential-like probabilities"
   ]
  },
  {
   "cell_type": "code",
   "execution_count": 93,
   "metadata": {
    "ExecuteTime": {
     "end_time": "2018-03-20T15:16:07.127704Z",
     "start_time": "2018-03-20T15:16:06.996047Z"
    }
   },
   "outputs": [
    {
     "name": "stderr",
     "output_type": "stream",
     "text": [
      "/home/cmardiros/anaconda3/envs/py36/lib/python3.6/site-packages/matplotlib/axes/_axes.py:6448: UserWarning: The 'normed' kwarg is deprecated, and has been replaced by the 'density' kwarg.\n",
      "  warnings.warn(\"The 'normed' kwarg is deprecated, and has been \"\n"
     ]
    },
    {
     "data": {
      "text/plain": [
       "<matplotlib.axes._subplots.AxesSubplot at 0x7f456fe150f0>"
      ]
     },
     "execution_count": 93,
     "metadata": {},
     "output_type": "execute_result"
    },
    {
     "data": {
      "image/png": "[encoded data removed]",
      "text/plain": [
       "<Figure size 432x288 with 1 Axes>"
      ]
     },
     "metadata": {},
     "output_type": "display_data"
    }
   ],
   "source": [
    "probs = faker.utils.generate_probs(\n",
    "    size=n_pool,\n",
    "    dist_kws={'family': 'expon', 'loc': 0, 'scale': 1},\n",
    "    seed=12345)\n",
    "sns.distplot(probs)"
   ]
  },
  {
   "cell_type": "code",
   "execution_count": 94,
   "metadata": {
    "ExecuteTime": {
     "end_time": "2018-03-20T15:16:07.259454Z",
     "start_time": "2018-03-20T15:16:07.129067Z"
    }
   },
   "outputs": [
    {
     "name": "stderr",
     "output_type": "stream",
     "text": [
      "/home/cmardiros/anaconda3/envs/py36/lib/python3.6/site-packages/matplotlib/axes/_axes.py:6448: UserWarning: The 'normed' kwarg is deprecated, and has been replaced by the 'density' kwarg.\n",
      "  warnings.warn(\"The 'normed' kwarg is deprecated, and has been \"\n"
     ]
    },
    {
     "data": {
      "text/plain": [
       "<matplotlib.axes._subplots.AxesSubplot at 0x7f456fdaa748>"
      ]
     },
     "execution_count": 94,
     "metadata": {},
     "output_type": "execute_result"
    },
    {
     "data": {
      "image/png": "[encoded data removed]",
      "text/plain": [
       "<Figure size 432x288 with 1 Axes>"
      ]
     },
     "metadata": {},
     "output_type": "display_data"
    }
   ],
   "source": [
    "# NOTE: these can be lambdas to feed to poisson!\n",
    "rands = np.random.choice(pool,\n",
    "                         size=n_resample,\n",
    "                         replace=True,\n",
    "                         p=probs)\n",
    "sns.distplot(rands)"
   ]
  },
  {
   "cell_type": "markdown",
   "metadata": {},
   "source": [
    "### Uniform-like"
   ]
  },
  {
   "cell_type": "code",
   "execution_count": 95,
   "metadata": {
    "ExecuteTime": {
     "end_time": "2018-03-20T15:16:07.380295Z",
     "start_time": "2018-03-20T15:16:07.261321Z"
    }
   },
   "outputs": [
    {
     "name": "stderr",
     "output_type": "stream",
     "text": [
      "/home/cmardiros/anaconda3/envs/py36/lib/python3.6/site-packages/matplotlib/axes/_axes.py:6448: UserWarning: The 'normed' kwarg is deprecated, and has been replaced by the 'density' kwarg.\n",
      "  warnings.warn(\"The 'normed' kwarg is deprecated, and has been \"\n"
     ]
    },
    {
     "data": {
      "text/plain": [
       "<matplotlib.axes._subplots.AxesSubplot at 0x7f456fb663c8>"
      ]
     },
     "execution_count": 95,
     "metadata": {},
     "output_type": "execute_result"
    },
    {
     "data": {
      "image/png": "[encoded data removed]",
      "text/plain": [
       "<Figure size 432x288 with 1 Axes>"
      ]
     },
     "metadata": {},
     "output_type": "display_data"
    }
   ],
   "source": [
    "probs = faker.utils.generate_probs(\n",
    "    size=n_pool,\n",
    "    dist_kws={'family': 'uniform'},\n",
    "    seed=12345)\n",
    "sns.distplot(probs)"
   ]
  },
  {
   "cell_type": "code",
   "execution_count": 96,
   "metadata": {
    "ExecuteTime": {
     "end_time": "2018-03-20T15:16:07.515583Z",
     "start_time": "2018-03-20T15:16:07.382202Z"
    }
   },
   "outputs": [
    {
     "name": "stderr",
     "output_type": "stream",
     "text": [
      "/home/cmardiros/anaconda3/envs/py36/lib/python3.6/site-packages/matplotlib/axes/_axes.py:6448: UserWarning: The 'normed' kwarg is deprecated, and has been replaced by the 'density' kwarg.\n",
      "  warnings.warn(\"The 'normed' kwarg is deprecated, and has been \"\n"
     ]
    },
    {
     "data": {
      "text/plain": [
       "<matplotlib.axes._subplots.AxesSubplot at 0x7f456fb2afd0>"
      ]
     },
     "execution_count": 96,
     "metadata": {},
     "output_type": "execute_result"
    },
    {
     "data": {
      "image/png": "[encoded data removed]",
      "text/plain": [
       "<Figure size 432x288 with 1 Axes>"
      ]
     },
     "metadata": {},
     "output_type": "display_data"
    }
   ],
   "source": [
    "rands = np.random.choice(pool,\n",
    "                         size=n_resample,\n",
    "                         replace=True,\n",
    "                         p=probs)\n",
    "sns.distplot(rands)"
   ]
  },
  {
   "cell_type": "markdown",
   "metadata": {},
   "source": [
    "## faker.one.FakeStringValueGenerator"
   ]
  },
  {
   "cell_type": "code",
   "execution_count": 97,
   "metadata": {
    "ExecuteTime": {
     "end_time": "2018-03-20T15:16:07.531323Z",
     "start_time": "2018-03-20T15:16:07.517440Z"
    }
   },
   "outputs": [
    {
     "data": {
      "text/plain": [
       "'VKTEA7WA55'"
      ]
     },
     "execution_count": 97,
     "metadata": {},
     "output_type": "execute_result"
    }
   ],
   "source": [
    "faker.one.FakeStringValueGenerator(length=10,\n",
    "                                   letters=True,\n",
    "                                   digits=True).generate(seed=12346)"
   ]
  },
  {
   "cell_type": "code",
   "execution_count": 98,
   "metadata": {
    "ExecuteTime": {
     "end_time": "2018-03-20T15:16:07.547272Z",
     "start_time": "2018-03-20T15:16:07.533156Z"
    }
   },
   "outputs": [
    {
     "data": {
      "text/plain": [
       "'MQUOGYYKJO@blueyonder.com'"
      ]
     },
     "execution_count": 98,
     "metadata": {},
     "output_type": "execute_result"
    }
   ],
   "source": [
    "faker.one.FakeStringValueGenerator(length=10,\n",
    "                                   letters=True,\n",
    "                                   email=True).generate(seed=12346)"
   ]
  },
  {
   "cell_type": "code",
   "execution_count": 99,
   "metadata": {
    "ExecuteTime": {
     "end_time": "2018-03-20T15:16:07.565851Z",
     "start_time": "2018-03-20T15:16:07.548959Z"
    }
   },
   "outputs": [
    {
     "data": {
      "text/plain": [
       "'page-MQUOGYYKJO.html'"
      ]
     },
     "execution_count": 99,
     "metadata": {},
     "output_type": "execute_result"
    }
   ],
   "source": [
    "faker.one.FakeStringValueGenerator(length=10,\n",
    "                                   letters=True,\n",
    "                                   prefix='page-',\n",
    "                                   suffix='.html').generate(seed=12346)"
   ]
  },
  {
   "cell_type": "markdown",
   "metadata": {},
   "source": [
    "## fake.pool.FakePoolGenerator"
   ]
  },
  {
   "cell_type": "markdown",
   "metadata": {},
   "source": [
    "### from_function"
   ]
  },
  {
   "cell_type": "code",
   "execution_count": 100,
   "metadata": {
    "ExecuteTime": {
     "end_time": "2018-03-20T15:16:07.584599Z",
     "start_time": "2018-03-20T15:16:07.567483Z"
    }
   },
   "outputs": [
    {
     "data": {
      "text/plain": [
       "array([2, 2, 1, 2, 1, 2, 2, 3, 3, 3])"
      ]
     },
     "execution_count": 100,
     "metadata": {},
     "output_type": "execute_result"
    }
   ],
   "source": [
    "faker.pool.FakePoolGenerator(size=10).generate(kind='from_function',\n",
    "                                               func=stats.randint.rvs,\n",
    "                                               func_kws={'low': 1, 'high': 5},\n",
    "                                               func_seed_arg='random_state',\n",
    "                                               seed=12345)"
   ]
  },
  {
   "cell_type": "code",
   "execution_count": 101,
   "metadata": {
    "ExecuteTime": {
     "end_time": "2018-03-20T15:16:07.606189Z",
     "start_time": "2018-03-20T15:16:07.585916Z"
    }
   },
   "outputs": [
    {
     "data": {
      "text/plain": [
       "array([4086, 9795, 5641, 9346, 9354, 1511,  465, 9241, 2560, 3207])"
      ]
     },
     "execution_count": 101,
     "metadata": {},
     "output_type": "execute_result"
    }
   ],
   "source": [
    "generator = faker.pool.FakePoolGenerator(size=10,\n",
    "                                         unique=True)\n",
    "generator.generate(\n",
    "    kind='from_function',\n",
    "    func=stats.randint.rvs,\n",
    "    func_kws={'low': 1, 'high': 10000},\n",
    "    func_seed_arg='random_state',\n",
    "    seed=12345)"
   ]
  },
  {
   "cell_type": "code",
   "execution_count": 102,
   "metadata": {
    "ExecuteTime": {
     "end_time": "2018-03-20T15:16:07.624985Z",
     "start_time": "2018-03-20T15:16:07.607602Z"
    }
   },
   "outputs": [
    {
     "data": {
      "text/plain": [
       "array([-4.28249191,  3.00865853, -2.80727473, -5.18222297,  9.30251759,\n",
       "       -5.76776883, -1.73950757, -1.53927032,  2.50948466, -2.60584529])"
      ]
     },
     "execution_count": 102,
     "metadata": {},
     "output_type": "execute_result"
    }
   ],
   "source": [
    "generator = faker.pool.FakePoolGenerator(size=10)\n",
    "generator.generate(kind='from_function',\n",
    "                   func=stats.norm.rvs,\n",
    "                   func_kws={'loc': 1, 'scale': 5},\n",
    "                   func_seed_arg='random_state',\n",
    "                   seed=12345)"
   ]
  },
  {
   "cell_type": "code",
   "execution_count": 103,
   "metadata": {
    "ExecuteTime": {
     "end_time": "2018-03-20T15:16:07.649132Z",
     "start_time": "2018-03-20T15:16:07.626392Z"
    }
   },
   "outputs": [
    {
     "data": {
      "text/plain": [
       "array([2.93217363, 1.70627367, 2.47533157, 3.10541547, 3.90936491,\n",
       "       4.42372755, 8.59122414, 8.42970692, 1.63998651, 8.49095727])"
      ]
     },
     "execution_count": 103,
     "metadata": {},
     "output_type": "execute_result"
    }
   ],
   "source": [
    "generator = faker.pool.FakePoolGenerator(size=10)\n",
    "generator.generate(kind='from_function',\n",
    "                   func=stats.expon.rvs,\n",
    "                   func_kws={'loc': 1, 'scale': 5},\n",
    "                   func_seed_arg='random_state',\n",
    "                   seed=12345)"
   ]
  },
  {
   "cell_type": "markdown",
   "metadata": {},
   "source": [
    "### ints"
   ]
  },
  {
   "cell_type": "code",
   "execution_count": 104,
   "metadata": {
    "ExecuteTime": {
     "end_time": "2018-03-20T15:16:07.668587Z",
     "start_time": "2018-03-20T15:16:07.650612Z"
    }
   },
   "outputs": [
    {
     "data": {
      "text/plain": [
       "array([ 465, 3084, 7425, 9346, 4808, 2270, 4450, 9980, 1511, 1161])"
      ]
     },
     "execution_count": 104,
     "metadata": {},
     "output_type": "execute_result"
    }
   ],
   "source": [
    "faker.pool.FakePoolGenerator(size=10).generate(kind='ints',\n",
    "                                               seed=12345)"
   ]
  },
  {
   "cell_type": "markdown",
   "metadata": {},
   "source": [
    "### counts"
   ]
  },
  {
   "cell_type": "code",
   "execution_count": 105,
   "metadata": {
    "ExecuteTime": {
     "end_time": "2018-03-20T15:16:07.907038Z",
     "start_time": "2018-03-20T15:16:07.669975Z"
    }
   },
   "outputs": [
    {
     "name": "stdout",
     "output_type": "stream",
     "text": [
      "[ 6.  3.  5.  7. 10. 12. 34. 33.  2. 33.]\n"
     ]
    },
    {
     "name": "stderr",
     "output_type": "stream",
     "text": [
      "/home/cmardiros/anaconda3/envs/py36/lib/python3.6/site-packages/matplotlib/axes/_axes.py:6448: UserWarning: The 'normed' kwarg is deprecated, and has been replaced by the 'density' kwarg.\n",
      "  warnings.warn(\"The 'normed' kwarg is deprecated, and has been \"\n"
     ]
    },
    {
     "data": {
      "text/plain": [
       "<matplotlib.axes._subplots.AxesSubplot at 0x7f456faa7e80>"
      ]
     },
     "execution_count": 105,
     "metadata": {},
     "output_type": "execute_result"
    },
    {
     "data": {
      "image/png": "[encoded data removed]",
      "text/plain": [
       "<Figure size 432x288 with 1 Axes>"
      ]
     },
     "metadata": {},
     "output_type": "display_data"
    }
   ],
   "source": [
    "data = faker.pool.FakePoolGenerator(size=1000).generate(kind='counts',\n",
    "                                                        gamma_kws=dict(a=2,\n",
    "                                                                       c=0.5,\n",
    "                                                                       scale=4),\n",
    "                                                        seed=12345)\n",
    "\n",
    "print(data[0:10])\n",
    "sns.distplot(data)"
   ]
  },
  {
   "cell_type": "code",
   "execution_count": 106,
   "metadata": {
    "ExecuteTime": {
     "end_time": "2018-03-20T15:16:08.595129Z",
     "start_time": "2018-03-20T15:16:07.908759Z"
    },
    "scrolled": false
   },
   "outputs": [
    {
     "name": "stdout",
     "output_type": "stream",
     "text": [
      "count    1000.000000\n",
      "mean       24.155000\n",
      "std        34.272957\n",
      "min         1.000000\n",
      "25%         4.000000\n",
      "50%        12.000000\n",
      "75%        29.000000\n",
      "max       256.000000\n",
      "Name: observations, dtype: float64\n"
     ]
    },
    {
     "data": {
      "image/png": "[encoded data removed]",
      "text/plain": [
       "<Figure size 1200x144 with 1 Axes>"
      ]
     },
     "metadata": {},
     "output_type": "display_data"
    }
   ],
   "source": [
    "series = pd.Series(data, dtype='float64')\n",
    "df = pd.DataFrame(data, columns=['observations'])\n",
    "df['observations'] = df['observations'].astype('int64')\n",
    "\n",
    "print(df['observations'].describe())\n",
    "\n",
    "n_levels = df['observations'].unique().shape[0]\n",
    "\n",
    "grid = sns.factorplot(kind='bar',\n",
    "                      data=df[df['observations'] <= 100],\n",
    "                      color='C0',\n",
    "                      orient='v',\n",
    "                      x='observations',\n",
    "                      y='observations',\n",
    "                      estimator=len,\n",
    "                      ci=None)\n",
    "\n",
    "retoucher = retouch.grid.GridRetoucher(grid)\n",
    "retoucher.fig.set_size(h='600px', w='5000px')"
   ]
  },
  {
   "cell_type": "code",
   "execution_count": 107,
   "metadata": {
    "ExecuteTime": {
     "end_time": "2018-03-20T15:16:08.837818Z",
     "start_time": "2018-03-20T15:16:08.596916Z"
    }
   },
   "outputs": [
    {
     "name": "stdout",
     "output_type": "stream",
     "text": [
      "[ 7.  2.  5.  8. 12. 15. 57. 55.  2. 56.]\n"
     ]
    },
    {
     "name": "stderr",
     "output_type": "stream",
     "text": [
      "/home/cmardiros/anaconda3/envs/py36/lib/python3.6/site-packages/matplotlib/axes/_axes.py:6448: UserWarning: The 'normed' kwarg is deprecated, and has been replaced by the 'density' kwarg.\n",
      "  warnings.warn(\"The 'normed' kwarg is deprecated, and has been \"\n"
     ]
    },
    {
     "data": {
      "text/plain": [
       "<matplotlib.axes._subplots.AxesSubplot at 0x7f456fa30b38>"
      ]
     },
     "execution_count": 107,
     "metadata": {},
     "output_type": "execute_result"
    },
    {
     "data": {
      "image/png": "[encoded data removed]",
      "text/plain": [
       "<Figure size 432x288 with 1 Axes>"
      ]
     },
     "metadata": {},
     "output_type": "display_data"
    }
   ],
   "source": [
    "data = faker.pool.FakePoolGenerator(size=1000).generate(kind='counts',\n",
    "                                                        gamma_kws=dict(a=2,\n",
    "                                                                       c=0.4,\n",
    "                                                                       scale=4),\n",
    "                                                        seed=12345)\n",
    "\n",
    "print(data[0:10])\n",
    "sns.distplot(data)"
   ]
  },
  {
   "cell_type": "code",
   "execution_count": 108,
   "metadata": {
    "ExecuteTime": {
     "end_time": "2018-03-20T15:16:09.433696Z",
     "start_time": "2018-03-20T15:16:08.839239Z"
    },
    "scrolled": false
   },
   "outputs": [
    {
     "name": "stdout",
     "output_type": "stream",
     "text": [
      "count    1000.000000\n",
      "mean       45.397000\n",
      "std        85.957851\n",
      "min         1.000000\n",
      "25%         4.000000\n",
      "50%        15.000000\n",
      "75%        47.000000\n",
      "max       721.000000\n",
      "Name: observations, dtype: float64\n"
     ]
    },
    {
     "data": {
      "image/png": "[encoded data removed]",
      "text/plain": [
       "<Figure size 1200x144 with 1 Axes>"
      ]
     },
     "metadata": {},
     "output_type": "display_data"
    }
   ],
   "source": [
    "series = pd.Series(data, dtype='float64')\n",
    "df = pd.DataFrame(data, columns=['observations'])\n",
    "df['observations'] = df['observations'].astype('int64')\n",
    "\n",
    "print(df['observations'].describe())\n",
    "\n",
    "n_levels = df['observations'].unique().shape[0]\n",
    "\n",
    "grid = sns.factorplot(kind='bar',\n",
    "                      data=df[df['observations'] <= 100],\n",
    "                      color='C0',\n",
    "                      orient='v',\n",
    "                      x='observations',\n",
    "                      y='observations',\n",
    "                      estimator=len,\n",
    "                      ci=None)\n",
    "\n",
    "retoucher = retouch.grid.GridRetoucher(grid)\n",
    "retoucher.fig.set_size(h='600px', w='5000px')"
   ]
  },
  {
   "cell_type": "code",
   "execution_count": 109,
   "metadata": {
    "ExecuteTime": {
     "end_time": "2018-03-20T15:16:09.667883Z",
     "start_time": "2018-03-20T15:16:09.435053Z"
    }
   },
   "outputs": [
    {
     "name": "stdout",
     "output_type": "stream",
     "text": [
      "[ 3.  1.  2.  3.  5.  7. 30. 29.  1. 29.]\n"
     ]
    },
    {
     "name": "stderr",
     "output_type": "stream",
     "text": [
      "/home/cmardiros/anaconda3/envs/py36/lib/python3.6/site-packages/matplotlib/axes/_axes.py:6448: UserWarning: The 'normed' kwarg is deprecated, and has been replaced by the 'density' kwarg.\n",
      "  warnings.warn(\"The 'normed' kwarg is deprecated, and has been \"\n"
     ]
    },
    {
     "data": {
      "text/plain": [
       "<matplotlib.axes._subplots.AxesSubplot at 0x7f456f78afd0>"
      ]
     },
     "execution_count": 109,
     "metadata": {},
     "output_type": "execute_result"
    },
    {
     "data": {
      "image/png": "[encoded data removed]",
      "text/plain": [
       "<Figure size 432x288 with 1 Axes>"
      ]
     },
     "metadata": {},
     "output_type": "display_data"
    }
   ],
   "source": [
    "data = faker.pool.FakePoolGenerator(size=1000).generate(kind='counts',\n",
    "                                                        gamma_kws=dict(a=1.5,\n",
    "                                                                       c=0.4,\n",
    "                                                                       scale=4),\n",
    "                                                        seed=12345)\n",
    "\n",
    "print(data[0:10])\n",
    "sns.distplot(data)"
   ]
  },
  {
   "cell_type": "code",
   "execution_count": 110,
   "metadata": {
    "ExecuteTime": {
     "end_time": "2018-03-20T15:16:10.220695Z",
     "start_time": "2018-03-20T15:16:09.669293Z"
    }
   },
   "outputs": [
    {
     "name": "stdout",
     "output_type": "stream",
     "text": [
      "count    1000.000000\n",
      "mean       26.621000\n",
      "std        57.658632\n",
      "min         1.000000\n",
      "25%         2.000000\n",
      "50%         7.000000\n",
      "75%        24.000000\n",
      "max       509.000000\n",
      "Name: observations, dtype: float64\n"
     ]
    },
    {
     "data": {
      "image/png": "[encoded data removed]",
      "text/plain": [
       "<Figure size 1200x144 with 1 Axes>"
      ]
     },
     "metadata": {},
     "output_type": "display_data"
    }
   ],
   "source": [
    "series = pd.Series(data, dtype='float64')\n",
    "df = pd.DataFrame(data, columns=['observations'])\n",
    "df['observations'] = df['observations'].astype('int64')\n",
    "\n",
    "print(df['observations'].describe())\n",
    "\n",
    "n_levels = df['observations'].unique().shape[0]\n",
    "\n",
    "grid = sns.factorplot(kind='bar',\n",
    "                      data=df[df['observations'] <= 100],\n",
    "                      color='C0',\n",
    "                      orient='v',\n",
    "                      x='observations',\n",
    "                      y='observations',\n",
    "                      estimator=len,\n",
    "                      ci=None)\n",
    "\n",
    "retoucher = retouch.grid.GridRetoucher(grid)\n",
    "retoucher.fig.set_size(h='600px', w='5000px')"
   ]
  },
  {
   "cell_type": "code",
   "execution_count": 111,
   "metadata": {
    "ExecuteTime": {
     "end_time": "2018-03-20T15:16:10.463259Z",
     "start_time": "2018-03-20T15:16:10.222065Z"
    }
   },
   "outputs": [
    {
     "name": "stdout",
     "output_type": "stream",
     "text": [
      "[ 2.  1.  1.  2.  2.  3. 10. 10.  1. 10.]\n"
     ]
    },
    {
     "name": "stderr",
     "output_type": "stream",
     "text": [
      "/home/cmardiros/anaconda3/envs/py36/lib/python3.6/site-packages/matplotlib/axes/_axes.py:6448: UserWarning: The 'normed' kwarg is deprecated, and has been replaced by the 'density' kwarg.\n",
      "  warnings.warn(\"The 'normed' kwarg is deprecated, and has been \"\n"
     ]
    },
    {
     "data": {
      "text/plain": [
       "<matplotlib.axes._subplots.AxesSubplot at 0x7f456f5302e8>"
      ]
     },
     "execution_count": 111,
     "metadata": {},
     "output_type": "execute_result"
    },
    {
     "data": {
      "image/png": "[encoded data removed]",
      "text/plain": [
       "<Figure size 432x288 with 1 Axes>"
      ]
     },
     "metadata": {},
     "output_type": "display_data"
    }
   ],
   "source": [
    "data = faker.pool.FakePoolGenerator(size=1000).generate(kind='counts',\n",
    "                                                        gamma_kws=dict(a=1,\n",
    "                                                                       c=0.5,\n",
    "                                                                       scale=4),\n",
    "                                                        seed=12345)\n",
    "\n",
    "print(data[0:10])\n",
    "sns.distplot(data)"
   ]
  },
  {
   "cell_type": "code",
   "execution_count": 112,
   "metadata": {
    "ExecuteTime": {
     "end_time": "2018-03-20T15:16:10.781849Z",
     "start_time": "2018-03-20T15:16:10.464783Z"
    }
   },
   "outputs": [
    {
     "name": "stdout",
     "output_type": "stream",
     "text": [
      "count    1000.00000\n",
      "mean        8.60200\n",
      "std        16.02087\n",
      "min         1.00000\n",
      "25%         1.00000\n",
      "50%         3.00000\n",
      "75%         8.00000\n",
      "max       135.00000\n",
      "Name: observations, dtype: float64\n"
     ]
    },
    {
     "data": {
      "image/png": "[encoded data removed]",
      "text/plain": [
       "<Figure size 1200x144 with 1 Axes>"
      ]
     },
     "metadata": {},
     "output_type": "display_data"
    }
   ],
   "source": [
    "series = pd.Series(data, dtype='float64')\n",
    "df = pd.DataFrame(data, columns=['observations'])\n",
    "df['observations'] = df['observations'].astype('int64')\n",
    "\n",
    "print(df['observations'].describe())\n",
    "\n",
    "n_levels = df['observations'].unique().shape[0]\n",
    "\n",
    "grid = sns.factorplot(kind='bar',\n",
    "                      data=df[df['observations'] <= 100],\n",
    "                      color='C0',\n",
    "                      orient='v',\n",
    "                      x='observations',\n",
    "                      y='observations',\n",
    "                      estimator=len,\n",
    "                      ci=None)\n",
    "\n",
    "retoucher = retouch.grid.GridRetoucher(grid)\n",
    "retoucher.fig.set_size(h='600px', w='5000px')"
   ]
  },
  {
   "cell_type": "markdown",
   "metadata": {},
   "source": [
    "### floats"
   ]
  },
  {
   "cell_type": "code",
   "execution_count": 113,
   "metadata": {
    "ExecuteTime": {
     "end_time": "2018-03-20T15:16:10.805115Z",
     "start_time": "2018-03-20T15:16:10.783254Z"
    }
   },
   "outputs": [
    {
     "data": {
      "text/plain": [
       "array([39.43501617, 54.01731705, 42.38545053, 37.63555405, 66.60503518,\n",
       "       36.46446234, 44.52098486, 44.92145935, 53.01896932, 42.78830941])"
      ]
     },
     "execution_count": 113,
     "metadata": {},
     "output_type": "execute_result"
    }
   ],
   "source": [
    "faker.pool.FakePoolGenerator(size=10).generate(kind='floats',\n",
    "                                               seed=12345)"
   ]
  },
  {
   "cell_type": "markdown",
   "metadata": {},
   "source": [
    "### ints_sequence"
   ]
  },
  {
   "cell_type": "code",
   "execution_count": 114,
   "metadata": {
    "ExecuteTime": {
     "end_time": "2018-03-20T15:16:10.828164Z",
     "start_time": "2018-03-20T15:16:10.806500Z"
    }
   },
   "outputs": [
    {
     "data": {
      "text/plain": [
       "array([ 5,  6,  7,  8,  9, 10, 11, 12, 13, 14])"
      ]
     },
     "execution_count": 114,
     "metadata": {},
     "output_type": "execute_result"
    }
   ],
   "source": [
    "faker.pool.FakePoolGenerator(size=10).generate(kind='ints_sequence',\n",
    "                                               start=5,\n",
    "                                               seed=12345)"
   ]
  },
  {
   "cell_type": "markdown",
   "metadata": {},
   "source": [
    "### strings"
   ]
  },
  {
   "cell_type": "code",
   "execution_count": 115,
   "metadata": {
    "ExecuteTime": {
     "end_time": "2018-03-20T15:16:10.846566Z",
     "start_time": "2018-03-20T15:16:10.829829Z"
    }
   },
   "outputs": [
    {
     "data": {
      "text/plain": [
       "array(['9GT9F86AY8', 'XBKTOZ9RFQ', '0Q7ALU27BD', '142O794K50',\n",
       "       'C47V5X2VG8', 'T0CYBHUSNS', 'XHLYYQIO3K', 'YWES12Z0PS',\n",
       "       'KKELPEG269', 'J8CS9Z1W9V'], dtype='<U10')"
      ]
     },
     "execution_count": 115,
     "metadata": {},
     "output_type": "execute_result"
    }
   ],
   "source": [
    "faker.pool.FakePoolGenerator(size=10).generate(kind='strings',\n",
    "                                               seed=12345)"
   ]
  },
  {
   "cell_type": "code",
   "execution_count": 116,
   "metadata": {
    "ExecuteTime": {
     "end_time": "2018-03-20T15:16:10.863775Z",
     "start_time": "2018-03-20T15:16:10.847949Z"
    }
   },
   "outputs": [
    {
     "data": {
      "text/plain": [
       "array(['9GT9F86AY8@yahoo.com', 'XBKTOZ9RFQ@yahoo.com',\n",
       "       '0Q7ALU27BD@gmail.com', '142O794K50@yahoo.com',\n",
       "       'C47V5X2VG8@gmail.com', 'T0CYBHUSNS@yahoo.com',\n",
       "       'XHLYYQIO3K@yahoo.com', 'YWES12Z0PS@hotmail.com',\n",
       "       'KKELPEG269@hotmail.com', 'J8CS9Z1W9V@hotmail.com'], dtype='<U22')"
      ]
     },
     "execution_count": 116,
     "metadata": {},
     "output_type": "execute_result"
    }
   ],
   "source": [
    "faker.pool.FakePoolGenerator(size=10).generate(kind='strings',\n",
    "                                               email=True,\n",
    "                                               seed=12345)"
   ]
  },
  {
   "cell_type": "code",
   "execution_count": 117,
   "metadata": {
    "ExecuteTime": {
     "end_time": "2018-03-20T15:16:10.882231Z",
     "start_time": "2018-03-20T15:16:10.865167Z"
    }
   },
   "outputs": [
    {
     "data": {
      "text/plain": [
       "array(['EKNKRE3F1R@hotmail.com', '2W3R4EXDLO@hotmail.com',\n",
       "       '8O3NFAUY2Y@gmail.com', '142O794K50@yahoo.com',\n",
       "       '9MMDJE4PN9@yahoo.com', 'KKELPEG269@hotmail.com',\n",
       "       '9GT9F86AY8@yahoo.com', 'XO3SNALU63@yahoo.com',\n",
       "       'OWOQETMHP7@blueyonder.com', '6E2M87QOGK@hotmail.com'],\n",
       "      dtype='<U25')"
      ]
     },
     "execution_count": 117,
     "metadata": {},
     "output_type": "execute_result"
    }
   ],
   "source": [
    "faker.pool.FakePoolGenerator(size=10,\n",
    "                             unique=True).generate(kind='strings',\n",
    "                                                   email=True,\n",
    "                                                   seed=12345)"
   ]
  },
  {
   "cell_type": "markdown",
   "metadata": {},
   "source": [
    "### dates"
   ]
  },
  {
   "cell_type": "code",
   "execution_count": 118,
   "metadata": {
    "ExecuteTime": {
     "end_time": "2018-03-20T15:16:10.897876Z",
     "start_time": "2018-03-20T15:16:10.883618Z"
    }
   },
   "outputs": [
    {
     "data": {
      "text/plain": [
       "array([datetime.datetime(2016, 1, 1, 0, 0),\n",
       "       datetime.datetime(2016, 1, 2, 0, 0),\n",
       "       datetime.datetime(2016, 1, 3, 0, 0),\n",
       "       datetime.datetime(2016, 1, 4, 0, 0),\n",
       "       datetime.datetime(2016, 1, 5, 0, 0),\n",
       "       datetime.datetime(2016, 1, 6, 0, 0),\n",
       "       datetime.datetime(2016, 1, 7, 0, 0),\n",
       "       datetime.datetime(2016, 1, 8, 0, 0),\n",
       "       datetime.datetime(2016, 1, 9, 0, 0),\n",
       "       datetime.datetime(2016, 1, 10, 0, 0),\n",
       "       datetime.datetime(2016, 1, 11, 0, 0),\n",
       "       datetime.datetime(2016, 1, 12, 0, 0),\n",
       "       datetime.datetime(2016, 1, 13, 0, 0),\n",
       "       datetime.datetime(2016, 1, 14, 0, 0),\n",
       "       datetime.datetime(2016, 1, 15, 0, 0)], dtype=object)"
      ]
     },
     "execution_count": 118,
     "metadata": {},
     "output_type": "execute_result"
    }
   ],
   "source": [
    "dates = faker.pool.FakePoolGenerator().generate(kind='dates',\n",
    "                                                start='2016-01-01',\n",
    "                                                end='2016-01-15',\n",
    "                                                seed=None)\n",
    "dates"
   ]
  },
  {
   "cell_type": "markdown",
   "metadata": {},
   "source": [
    "### tstamps"
   ]
  },
  {
   "cell_type": "code",
   "execution_count": 119,
   "metadata": {
    "ExecuteTime": {
     "end_time": "2018-03-20T15:16:10.913209Z",
     "start_time": "2018-03-20T15:16:10.899267Z"
    }
   },
   "outputs": [
    {
     "data": {
      "text/plain": [
       "array([datetime.datetime(2016, 1, 1, 11, 47, 49),\n",
       "       datetime.datetime(2016, 1, 2, 17, 16, 45),\n",
       "       datetime.datetime(2016, 1, 3, 17, 15, 14),\n",
       "       datetime.datetime(2016, 1, 4, 21, 44, 27),\n",
       "       datetime.datetime(2016, 1, 5, 9, 50, 4),\n",
       "       datetime.datetime(2016, 1, 6, 8, 34, 55),\n",
       "       datetime.datetime(2016, 1, 7, 15, 48, 24),\n",
       "       datetime.datetime(2016, 1, 8, 19, 0, 59),\n",
       "       datetime.datetime(2016, 1, 9, 3, 42, 35),\n",
       "       datetime.datetime(2016, 1, 10, 23, 17, 31),\n",
       "       datetime.datetime(2016, 1, 11, 15, 6, 21),\n",
       "       datetime.datetime(2016, 1, 12, 4, 41, 1),\n",
       "       datetime.datetime(2016, 1, 13, 17, 49, 50),\n",
       "       datetime.datetime(2016, 1, 14, 1, 40, 45),\n",
       "       datetime.datetime(2016, 1, 15, 11, 42, 4)], dtype=object)"
      ]
     },
     "execution_count": 119,
     "metadata": {},
     "output_type": "execute_result"
    }
   ],
   "source": [
    "faker.pool.FakePoolGenerator().generate(kind='tstamps',\n",
    "                                        for_dates=dates,\n",
    "                                        sort=False,\n",
    "                                        seed=12345)"
   ]
  },
  {
   "cell_type": "code",
   "execution_count": 120,
   "metadata": {
    "ExecuteTime": {
     "end_time": "2018-03-20T15:16:10.928421Z",
     "start_time": "2018-03-20T15:16:10.914695Z"
    }
   },
   "outputs": [
    {
     "data": {
      "text/plain": [
       "array([datetime.datetime(2016, 1, 1, 11, 0),\n",
       "       datetime.datetime(2016, 1, 2, 17, 0),\n",
       "       datetime.datetime(2016, 1, 3, 17, 0),\n",
       "       datetime.datetime(2016, 1, 4, 21, 0),\n",
       "       datetime.datetime(2016, 1, 5, 9, 0),\n",
       "       datetime.datetime(2016, 1, 6, 8, 0),\n",
       "       datetime.datetime(2016, 1, 7, 15, 0),\n",
       "       datetime.datetime(2016, 1, 8, 19, 0),\n",
       "       datetime.datetime(2016, 1, 9, 3, 0),\n",
       "       datetime.datetime(2016, 1, 10, 23, 0),\n",
       "       datetime.datetime(2016, 1, 11, 15, 0),\n",
       "       datetime.datetime(2016, 1, 12, 4, 0),\n",
       "       datetime.datetime(2016, 1, 13, 17, 0),\n",
       "       datetime.datetime(2016, 1, 14, 1, 0),\n",
       "       datetime.datetime(2016, 1, 15, 11, 0)], dtype=object)"
      ]
     },
     "execution_count": 120,
     "metadata": {},
     "output_type": "execute_result"
    }
   ],
   "source": [
    "faker.pool.FakePoolGenerator().generate(kind='tstamps',\n",
    "                                        for_dates=dates,\n",
    "                                        round_to='hour',\n",
    "                                        seed=12345)"
   ]
  },
  {
   "cell_type": "markdown",
   "metadata": {},
   "source": [
    "## faker.column.FakeColumnGenerator"
   ]
  },
  {
   "cell_type": "markdown",
   "metadata": {},
   "source": [
    "### custom resample pool - sequence of ints"
   ]
  },
  {
   "cell_type": "code",
   "execution_count": 121,
   "metadata": {
    "ExecuteTime": {
     "end_time": "2018-03-20T15:16:10.944212Z",
     "start_time": "2018-03-20T15:16:10.929900Z"
    }
   },
   "outputs": [
    {
     "data": {
      "text/plain": [
       "array([1, 2, 3, 4, 5, 6, 7, 10, 11, 12, 13, 14, 16, 17, 18, 19, 20, 21,\n",
       "       22, 23, 24, 26, 27, 28, 29, 30, 31, 33, 34, 35, 36, 37, 40, 42, 43,\n",
       "       44, 45, 46, 47, 48, 52, 55, 56, 57, 58, 59, 60, 62, 63, 65, 66, 67,\n",
       "       68, 69, 71, 73, 74, 75, 76, 77, 78, 81, 82, 83, 89, 90, 92, 93, 94,\n",
       "       96, 97, 98, 99, 100, 101, 105, 106, 107, 109, 111, 112, 113, 114,\n",
       "       115, 116, 119, 120, 122, 123, 132, 133, 136, 137, 138, 142, 143,\n",
       "       147, 148, 149, 150], dtype=object)"
      ]
     },
     "execution_count": 121,
     "metadata": {},
     "output_type": "execute_result"
    }
   ],
   "source": [
    "generator = faker.column.FakeColumnGenerator(rows=100)\n",
    "generator.generate(pool=np.arange(1, 151, 1),\n",
    "                   pool_shuffle=True,\n",
    "                   unique=True,\n",
    "                   sort=True,\n",
    "                   sort_order='asc',\n",
    "                   seed=12345)"
   ]
  },
  {
   "cell_type": "code",
   "execution_count": 122,
   "metadata": {
    "ExecuteTime": {
     "end_time": "2018-03-20T15:16:10.960716Z",
     "start_time": "2018-03-20T15:16:10.945585Z"
    }
   },
   "outputs": [
    {
     "data": {
      "text/plain": [
       "array([96, nan, 0, 0, 0, 0, nan, nan, 0, 56, 0, 73, 123, 0, 122, nan, 0,\n",
       "       0, 4, 0, 19, nan, 99, 31, nan, 0, 0, 150, 36, 0, 0, 81, 0, 106,\n",
       "       nan, 0, 0, 17, 100, nan, nan, 0, 0, 0, 0, 0, 89, 0, 29, 0, 12, 101,\n",
       "       nan, nan, nan, 0, 107, 16, 69, 0, 0, nan, 97, nan, 0, 112, 6, 0,\n",
       "       nan, 65, 11, nan, 0, 113, 30, 24, nan, 0, 43, 0, 55, nan, 20, 0,\n",
       "       105, 40, 0, 45, 0, 0, 0, 121, 0, 0, 78, 120, nan, 0, 47, nan],\n",
       "      dtype=object)"
      ]
     },
     "execution_count": 122,
     "metadata": {},
     "output_type": "execute_result"
    }
   ],
   "source": [
    "generator = faker.column.FakeColumnGenerator(rows=100,\n",
    "                                             nan_ratio=0.2,\n",
    "                                             zero_ratio=0.4)\n",
    "generator.generate(pool=np.arange(1, 151, 1),\n",
    "                   pool_shuffle=True,\n",
    "                   unique=True,\n",
    "                   shuffle=True,\n",
    "                   sort=True,\n",
    "                   sort_order='desc',\n",
    "                   seed=12345)"
   ]
  },
  {
   "cell_type": "code",
   "execution_count": 123,
   "metadata": {
    "ExecuteTime": {
     "end_time": "2018-03-20T15:16:10.976520Z",
     "start_time": "2018-03-20T15:16:10.962088Z"
    }
   },
   "outputs": [
    {
     "data": {
      "text/plain": [
       "array([114, 47, 33, 149, 98, 75, 44, 92, 17, 18, 28, 37, 55, 69, 27, 74,\n",
       "       71, 119, 31, 5, 96, 78, 45, 43, 76, 59, 46, 143, 109, 57, 56, 105,\n",
       "       22, 150, 36, 107, 42, 7, 62, 120, 82, 23, 26, 58, 81, 6, 94, 133,\n",
       "       111, 13, 16, 35, 148, 123, 52, 132, 90, 2, 137, 73, 11, 136, 1, 3,\n",
       "       10, 112, 68, 142, 138, 40, 29, 115, 19, 116, 147, 101, 97, 34, 14,\n",
       "       12, 89, 30, 66, 83, 77, 65, 48, 63, 21, 60, 20, 67, 4, 106, 24,\n",
       "       100, 99, 113, 122, 93], dtype=object)"
      ]
     },
     "execution_count": 123,
     "metadata": {},
     "output_type": "execute_result"
    }
   ],
   "source": [
    "generator = faker.column.FakeColumnGenerator(rows=100)\n",
    "generator.generate(pool=np.arange(1, 151, 1),\n",
    "                   pool_shuffle=True,\n",
    "                   unique=True,\n",
    "                   shuffle=True,\n",
    "                   seed=12345)"
   ]
  },
  {
   "cell_type": "markdown",
   "metadata": {},
   "source": [
    "#### Uniform probability"
   ]
  },
  {
   "cell_type": "code",
   "execution_count": 124,
   "metadata": {
    "ExecuteTime": {
     "end_time": "2018-03-20T15:16:10.999324Z",
     "start_time": "2018-03-20T15:16:10.977895Z"
    }
   },
   "outputs": [
    {
     "name": "stdout",
     "output_type": "stream",
     "text": [
      "count     80\n",
      "unique     6\n",
      "top        0\n",
      "freq      30\n",
      "dtype: int64\n"
     ]
    },
    {
     "data": {
      "text/plain": [
       " 0.0    0.30\n",
       "NaN     0.20\n",
       " 2.0    0.15\n",
       " 1.0    0.15\n",
       " 3.0    0.12\n",
       " 5.0    0.05\n",
       " 4.0    0.03\n",
       "dtype: float64"
      ]
     },
     "execution_count": 124,
     "metadata": {},
     "output_type": "execute_result"
    }
   ],
   "source": [
    "generator = faker.column.FakeColumnGenerator(rows=100,\n",
    "                                             nan_ratio=0.2,\n",
    "                                             zero_ratio=0.3)\n",
    "data = generator.generate(pool=np.arange(1, 6, 1),\n",
    "                          freq_probs_dist_kws={'family': 'uniform'},\n",
    "                          shuffle=True,\n",
    "                          seed=12345)\n",
    "\n",
    "series = pd.Series(data)\n",
    "print(series.describe())\n",
    "series.value_counts(dropna=False) / series.shape[0]"
   ]
  },
  {
   "cell_type": "markdown",
   "metadata": {},
   "source": [
    "#### Exponential probability"
   ]
  },
  {
   "cell_type": "code",
   "execution_count": 125,
   "metadata": {
    "ExecuteTime": {
     "end_time": "2018-03-20T15:16:11.027857Z",
     "start_time": "2018-03-20T15:16:11.000735Z"
    }
   },
   "outputs": [
    {
     "name": "stdout",
     "output_type": "stream",
     "text": [
      "count     80\n",
      "unique     5\n",
      "top        1\n",
      "freq      43\n",
      "dtype: int64\n"
     ]
    },
    {
     "data": {
      "text/plain": [
       " 1.0    0.43\n",
       " 2.0    0.22\n",
       "NaN     0.20\n",
       " 5.0    0.05\n",
       " 4.0    0.05\n",
       " 3.0    0.05\n",
       "dtype: float64"
      ]
     },
     "execution_count": 125,
     "metadata": {},
     "output_type": "execute_result"
    }
   ],
   "source": [
    "generator = faker.column.FakeColumnGenerator(rows=100,\n",
    "                                             nan_ratio=0.2)\n",
    "data = generator.generate(pool=np.arange(1, 6, 1),\n",
    "                          freq_probs_dist_kws={'family': 'expon'},\n",
    "                          shuffle=True,\n",
    "                          seed=12345)\n",
    "\n",
    "series = pd.Series(data)\n",
    "print(series.describe())\n",
    "series.value_counts(dropna=False) / series.shape[0]"
   ]
  },
  {
   "cell_type": "markdown",
   "metadata": {},
   "source": [
    "#### Custom probabilities"
   ]
  },
  {
   "cell_type": "code",
   "execution_count": 126,
   "metadata": {
    "ExecuteTime": {
     "end_time": "2018-03-20T15:16:11.051437Z",
     "start_time": "2018-03-20T15:16:11.029728Z"
    }
   },
   "outputs": [
    {
     "name": "stdout",
     "output_type": "stream",
     "text": [
      "count     80\n",
      "unique     4\n",
      "top        1\n",
      "freq      39\n",
      "dtype: int64\n"
     ]
    },
    {
     "data": {
      "text/plain": [
       " 1.0    0.39\n",
       " 2.0    0.27\n",
       "NaN     0.20\n",
       " 3.0    0.09\n",
       " 0.0    0.05\n",
       "dtype: float64"
      ]
     },
     "execution_count": 126,
     "metadata": {},
     "output_type": "execute_result"
    }
   ],
   "source": [
    "generator = faker.column.FakeColumnGenerator(rows=100,\n",
    "                                             nan_ratio=0.2,\n",
    "                                             zero_ratio=0.05)\n",
    "data = generator.generate(pool=np.arange(1, 6, 1),\n",
    "                          freq_probs=[0.6, 0.3, 0.1, 0, 0],\n",
    "                          shuffle=True,\n",
    "                          seed=12345)\n",
    "\n",
    "series = pd.Series(data)\n",
    "print(series.describe())\n",
    "series.value_counts(dropna=False) / series.shape[0]"
   ]
  },
  {
   "cell_type": "markdown",
   "metadata": {},
   "source": [
    "### custom resample pool - strings"
   ]
  },
  {
   "cell_type": "code",
   "execution_count": 127,
   "metadata": {
    "ExecuteTime": {
     "end_time": "2018-03-20T15:16:11.078187Z",
     "start_time": "2018-03-20T15:16:11.052900Z"
    }
   },
   "outputs": [
    {
     "name": "stdout",
     "output_type": "stream",
     "text": [
      "count     10000\n",
      "unique        4\n",
      "top          UK\n",
      "freq       4448\n",
      "dtype: object\n"
     ]
    },
    {
     "data": {
      "text/plain": [
       "UK    0.4448\n",
       "DE    0.2448\n",
       "FR    0.2162\n",
       "US    0.0942\n",
       "dtype: float64"
      ]
     },
     "execution_count": 127,
     "metadata": {},
     "output_type": "execute_result"
    }
   ],
   "source": [
    "generator = faker.column.FakeColumnGenerator(rows=10000,\n",
    "                                             nan_ratio=0)\n",
    "data = generator.generate(pool=np.array(['UK', 'DE', 'FR', 'US']),\n",
    "                          freq_probs_dist_kws={'family': 'beta', 'a': 1, 'b': 10},\n",
    "                          seed=12347)\n",
    "\n",
    "series = pd.Series(data)\n",
    "print(series.describe())\n",
    "series.value_counts(dropna=False) / series.shape[0]"
   ]
  },
  {
   "cell_type": "markdown",
   "metadata": {},
   "source": [
    "### custom resample pool - counts-like"
   ]
  },
  {
   "cell_type": "code",
   "execution_count": 128,
   "metadata": {
    "ExecuteTime": {
     "end_time": "2018-03-20T15:16:11.093811Z",
     "start_time": "2018-03-20T15:16:11.079711Z"
    }
   },
   "outputs": [
    {
     "data": {
      "text/plain": [
       "array([ 1,  2,  3,  4,  5,  6,  7,  8,  9, 10, 11, 12, 13, 14, 15, 16, 17,\n",
       "       18, 19, 20, 21, 41, 61, 81])"
      ]
     },
     "execution_count": 128,
     "metadata": {},
     "output_type": "execute_result"
    }
   ],
   "source": [
    "pool = np.concatenate((np.arange(1, 21, 1), np.arange(21, 101, 20)))\n",
    "pool"
   ]
  },
  {
   "cell_type": "code",
   "execution_count": 129,
   "metadata": {
    "ExecuteTime": {
     "end_time": "2018-03-20T15:16:11.125780Z",
     "start_time": "2018-03-20T15:16:11.095918Z"
    }
   },
   "outputs": [
    {
     "name": "stdout",
     "output_type": "stream",
     "text": [
      "count    9000.000000\n",
      "mean        5.947333\n",
      "std         5.642959\n",
      "min         1.000000\n",
      "25%         2.000000\n",
      "50%         4.000000\n",
      "75%         8.000000\n",
      "max        81.000000\n",
      "dtype: float64\n",
      "[14.  4.  2.  7. 11.  1. 15.  9.  6.  5.  3. 21. 13.  8. 10. 19. 12. 20.\n",
      " 41. 17. 18. 16. 61. 81. nan]\n"
     ]
    },
    {
     "data": {
      "text/plain": [
       " 1.0     0.1331\n",
       " 2.0     0.1263\n",
       " 3.0     0.1179\n",
       "NaN      0.1000\n",
       " 4.0     0.0859\n",
       " 5.0     0.0694\n",
       " 6.0     0.0573\n",
       " 7.0     0.0537\n",
       " 8.0     0.0495\n",
       " 9.0     0.0311\n",
       " 10.0    0.0309\n",
       " 11.0    0.0278\n",
       " 13.0    0.0263\n",
       " 12.0    0.0245\n",
       " 14.0    0.0143\n",
       " 15.0    0.0115\n",
       " 17.0    0.0081\n",
       " 16.0    0.0075\n",
       " 18.0    0.0056\n",
       " 19.0    0.0050\n",
       " 21.0    0.0046\n",
       " 20.0    0.0042\n",
       " 41.0    0.0035\n",
       " 61.0    0.0018\n",
       " 81.0    0.0002\n",
       "dtype: float64"
      ]
     },
     "execution_count": 129,
     "metadata": {},
     "output_type": "execute_result"
    }
   ],
   "source": [
    "generator = faker.column.FakeColumnGenerator(rows=10000,\n",
    "                                             nan_ratio=0.1)\n",
    "data = generator.generate(pool=pool,\n",
    "                          pool_kind='ints',\n",
    "                          pool_size=10,\n",
    "                          pool_sort=True,\n",
    "                          freq_probs_dist_kws={'family': 'expon'},\n",
    "                          seed=12346)\n",
    "\n",
    "series = pd.Series(data, dtype='float64')\n",
    "print(series.describe())\n",
    "print(series.unique())\n",
    "series.value_counts(dropna=False) / series.shape[0]"
   ]
  },
  {
   "cell_type": "code",
   "execution_count": 130,
   "metadata": {
    "ExecuteTime": {
     "end_time": "2018-03-20T15:16:11.292868Z",
     "start_time": "2018-03-20T15:16:11.127080Z"
    }
   },
   "outputs": [
    {
     "name": "stderr",
     "output_type": "stream",
     "text": [
      "/home/cmardiros/anaconda3/envs/py36/lib/python3.6/site-packages/matplotlib/axes/_axes.py:6448: UserWarning: The 'normed' kwarg is deprecated, and has been replaced by the 'density' kwarg.\n",
      "  warnings.warn(\"The 'normed' kwarg is deprecated, and has been \"\n"
     ]
    },
    {
     "data": {
      "text/plain": [
       "<matplotlib.axes._subplots.AxesSubplot at 0x7f456f1fcda0>"
      ]
     },
     "execution_count": 130,
     "metadata": {},
     "output_type": "execute_result"
    },
    {
     "data": {
      "image/png": "[encoded data removed]",
      "text/plain": [
       "<Figure size 432x288 with 1 Axes>"
      ]
     },
     "metadata": {},
     "output_type": "display_data"
    }
   ],
   "source": [
    "sns.distplot(series[~series.isnull()])"
   ]
  },
  {
   "cell_type": "markdown",
   "metadata": {},
   "source": [
    "### generate and resample from counts pool"
   ]
  },
  {
   "cell_type": "code",
   "execution_count": 131,
   "metadata": {
    "ExecuteTime": {
     "end_time": "2018-03-20T15:16:11.964856Z",
     "start_time": "2018-03-20T15:16:11.294353Z"
    }
   },
   "outputs": [],
   "source": [
    "generator = faker.column.FakeColumnGenerator(rows=10000,\n",
    "                                             nan_ratio=0.1)\n",
    "# set the pool size equal to rows and set unique=True\n",
    "# to ensure all generated rows ARE the pool \n",
    "# (when we want to preserve exactly what the function that generated our pool returned)\n",
    "data = generator.generate(pool=None,\n",
    "                          pool_kind='counts',\n",
    "                          pool_size=10000,\n",
    "                          unique=True,\n",
    "                          pool_kws=dict(gamma_kws={'a': 2, 'c': 0.4, 'loc': 0, 'scale': 4}),\n",
    "                          shuffle=True,\n",
    "                          seed=12345)\n"
   ]
  },
  {
   "cell_type": "code",
   "execution_count": 132,
   "metadata": {
    "ExecuteTime": {
     "end_time": "2018-03-20T15:16:12.625131Z",
     "start_time": "2018-03-20T15:16:11.966454Z"
    },
    "scrolled": false
   },
   "outputs": [
    {
     "name": "stdout",
     "output_type": "stream",
     "text": [
      "count    10000.000000\n",
      "mean        41.624500\n",
      "std         87.913212\n",
      "min          0.000000\n",
      "25%          3.000000\n",
      "50%         11.000000\n",
      "75%         43.000000\n",
      "max        905.000000\n",
      "Name: observations, dtype: float64\n"
     ]
    },
    {
     "data": {
      "image/png": "[encoded data removed]",
      "text/plain": [
       "<Figure size 1200x144 with 1 Axes>"
      ]
     },
     "metadata": {},
     "output_type": "display_data"
    }
   ],
   "source": [
    "series = pd.Series(data, dtype='float64')\n",
    "df = pd.DataFrame(data, columns=['observations'])\n",
    "df['observations'].fillna(0, inplace=True)\n",
    "df['observations'] = df['observations'].astype('int64')\n",
    "df['level'] = df['observations'].sort_index().astype('category')\n",
    "print(df['observations'].describe())\n",
    "\n",
    "grid_kws = {'x': 'level',\n",
    "            'y': 'observations',\n",
    "            'orient': 'v',\n",
    "            'estimator': len,\n",
    "            'ci': None}\n",
    "\n",
    "_df = df[df['observations'] <= 100]\n",
    "_df = dsutils.pandas.cats.remove_unused_cats(_df)\n",
    "\n",
    "grid = sns.factorplot(kind='bar',\n",
    "                      data=_df,\n",
    "                      color='C0',\n",
    "                      **grid_kws)\n",
    "\n",
    "retoucher = retouch.grid.GridRetoucher(grid, grid_kws=grid_kws)\n",
    "retoucher.fig.set_size(h='600px', w='5000px')"
   ]
  },
  {
   "cell_type": "markdown",
   "metadata": {},
   "source": [
    "### generate and resample from ints_sequence pool"
   ]
  },
  {
   "cell_type": "code",
   "execution_count": 133,
   "metadata": {
    "ExecuteTime": {
     "end_time": "2018-03-20T15:16:12.654449Z",
     "start_time": "2018-03-20T15:16:12.626509Z"
    }
   },
   "outputs": [
    {
     "name": "stdout",
     "output_type": "stream",
     "text": [
      "count    9000.000000\n",
      "mean    -6689.980889\n",
      "std      1985.026926\n",
      "min     -8950.000000\n",
      "25%     -8339.000000\n",
      "50%     -7235.000000\n",
      "75%     -5488.000000\n",
      "max       -57.000000\n",
      "dtype: float64\n"
     ]
    },
    {
     "data": {
      "text/plain": [
       "0   -8388.0\n",
       "1   -6875.0\n",
       "2   -6047.0\n",
       "3   -7003.0\n",
       "4   -8132.0\n",
       "dtype: float64"
      ]
     },
     "execution_count": 133,
     "metadata": {},
     "output_type": "execute_result"
    }
   ],
   "source": [
    "generator = faker.column.FakeColumnGenerator(rows=10000,\n",
    "                                             nan_ratio=0.1)\n",
    "data = generator.generate(pool=None,\n",
    "                          pool_kind='ints_sequence',\n",
    "                          pool_kws={'start': 0, 'stop': 50},\n",
    "                          freq_probs_dist_kws={'family': 'expon'},\n",
    "                          shuffle=True,\n",
    "                          seed=12346)\n",
    "\n",
    "series = pd.Series(data, dtype='float64')\n",
    "print(series.describe())\n",
    "series.value_counts(dropna=False) / series.shape[0]\n",
    "series.head()"
   ]
  },
  {
   "cell_type": "code",
   "execution_count": 134,
   "metadata": {
    "ExecuteTime": {
     "end_time": "2018-03-20T15:16:12.810259Z",
     "start_time": "2018-03-20T15:16:12.655782Z"
    }
   },
   "outputs": [
    {
     "name": "stderr",
     "output_type": "stream",
     "text": [
      "/home/cmardiros/anaconda3/envs/py36/lib/python3.6/site-packages/matplotlib/axes/_axes.py:6448: UserWarning: The 'normed' kwarg is deprecated, and has been replaced by the 'density' kwarg.\n",
      "  warnings.warn(\"The 'normed' kwarg is deprecated, and has been \"\n"
     ]
    },
    {
     "data": {
      "text/plain": [
       "<matplotlib.axes._subplots.AxesSubplot at 0x7f456f25d208>"
      ]
     },
     "execution_count": 134,
     "metadata": {},
     "output_type": "execute_result"
    },
    {
     "data": {
      "image/png": "[encoded data removed]",
      "text/plain": [
       "<Figure size 432x288 with 1 Axes>"
      ]
     },
     "metadata": {},
     "output_type": "display_data"
    }
   ],
   "source": [
    "sns.distplot(series[~series.isnull()])"
   ]
  },
  {
   "cell_type": "markdown",
   "metadata": {},
   "source": [
    "### generate and resample from floats pool"
   ]
  },
  {
   "cell_type": "code",
   "execution_count": 135,
   "metadata": {
    "ExecuteTime": {
     "end_time": "2018-03-20T15:16:12.836987Z",
     "start_time": "2018-03-20T15:16:12.811804Z"
    }
   },
   "outputs": [
    {
     "name": "stdout",
     "output_type": "stream",
     "text": [
      "count    10000.000000\n",
      "mean        47.000524\n",
      "std         10.069550\n",
      "min         27.965602\n",
      "25%         39.730955\n",
      "50%         45.192750\n",
      "75%         52.683937\n",
      "max         63.661073\n",
      "dtype: float64\n",
      "[38.41237811 52.38926809 45.19274996 39.73095488 59.98586128 27.96560216\n",
      " 42.44091353 63.6610733  48.58285693 52.68393732]\n"
     ]
    },
    {
     "data": {
      "text/plain": [
       "48.582857    0.1054\n",
       "45.192750    0.1039\n",
       "42.440914    0.1014\n",
       "27.965602    0.1003\n",
       "38.412378    0.1003\n",
       "39.730955    0.0994\n",
       "63.661073    0.0982\n",
       "52.683937    0.0981\n",
       "59.985861    0.0978\n",
       "52.389268    0.0952\n",
       "dtype: float64"
      ]
     },
     "execution_count": 135,
     "metadata": {},
     "output_type": "execute_result"
    }
   ],
   "source": [
    "generator = faker.column.FakeColumnGenerator(rows=10000)\n",
    "data = generator.generate(pool_kind='floats',\n",
    "                          pool_size=10,\n",
    "                          seed=12346)\n",
    "\n",
    "series = pd.Series(data, dtype='float64')\n",
    "print(series.describe())\n",
    "print(series.unique())\n",
    "series.value_counts(dropna=False) / series.shape[0]"
   ]
  },
  {
   "cell_type": "code",
   "execution_count": 136,
   "metadata": {
    "ExecuteTime": {
     "end_time": "2018-03-20T15:16:12.981480Z",
     "start_time": "2018-03-20T15:16:12.838409Z"
    },
    "scrolled": true
   },
   "outputs": [
    {
     "name": "stderr",
     "output_type": "stream",
     "text": [
      "/home/cmardiros/anaconda3/envs/py36/lib/python3.6/site-packages/matplotlib/axes/_axes.py:6448: UserWarning: The 'normed' kwarg is deprecated, and has been replaced by the 'density' kwarg.\n",
      "  warnings.warn(\"The 'normed' kwarg is deprecated, and has been \"\n"
     ]
    },
    {
     "data": {
      "text/plain": [
       "<matplotlib.axes._subplots.AxesSubplot at 0x7f456ed1a2e8>"
      ]
     },
     "execution_count": 136,
     "metadata": {},
     "output_type": "execute_result"
    },
    {
     "data": {
      "image/png": "[encoded data removed]",
      "text/plain": [
       "<Figure size 432x288 with 1 Axes>"
      ]
     },
     "metadata": {},
     "output_type": "display_data"
    }
   ],
   "source": [
    "sns.distplot(series)"
   ]
  },
  {
   "cell_type": "markdown",
   "metadata": {},
   "source": [
    "### generate and resample from strings pool"
   ]
  },
  {
   "cell_type": "markdown",
   "metadata": {},
   "source": [
    "#### Uniform frequency probability"
   ]
  },
  {
   "cell_type": "code",
   "execution_count": 137,
   "metadata": {
    "ExecuteTime": {
     "end_time": "2018-03-20T15:16:13.012680Z",
     "start_time": "2018-03-20T15:16:12.983180Z"
    }
   },
   "outputs": [
    {
     "name": "stdout",
     "output_type": "stream",
     "text": [
      "count                       9000\n",
      "unique                        10\n",
      "top       AFVY5800CJ@hotmail.com\n",
      "freq                         946\n",
      "dtype: object\n"
     ]
    },
    {
     "data": {
      "text/plain": [
       "NaN                          0.1000\n",
       "AFVY5800CJ@hotmail.com       0.0946\n",
       "UVWRLLNVVB@hotmail.com       0.0925\n",
       "D2WNKDK8HW@yahoo.com         0.0920\n",
       "ZNHBMI6T91@blueyonder.com    0.0900\n",
       "U0J3B56N48@yahoo.com         0.0899\n",
       "LJW20II3PU@hotmail.com       0.0897\n",
       "YU1W7QGB9K@hotmail.com       0.0892\n",
       "YB5N0UL9X9@hotmail.com       0.0884\n",
       "S3V6VUMD82@gmail.com         0.0881\n",
       "C907JCJ08J@gmail.com         0.0856\n",
       "dtype: float64"
      ]
     },
     "execution_count": 137,
     "metadata": {},
     "output_type": "execute_result"
    }
   ],
   "source": [
    "generator = faker.column.FakeColumnGenerator(rows=10000,\n",
    "                                             nan_ratio=0.1)\n",
    "data = generator.generate(pool_kind='strings',\n",
    "                          pool_size=10,\n",
    "                          pool_kws={'email': True},\n",
    "                          seed=12346)\n",
    "\n",
    "series = pd.Series(data)\n",
    "print(series.describe())\n",
    "series.value_counts(dropna=False) / series.shape[0]"
   ]
  },
  {
   "cell_type": "markdown",
   "metadata": {},
   "source": [
    "#### Exponential frequency probability"
   ]
  },
  {
   "cell_type": "code",
   "execution_count": 138,
   "metadata": {
    "ExecuteTime": {
     "end_time": "2018-03-20T15:16:13.044655Z",
     "start_time": "2018-03-20T15:16:13.014295Z"
    }
   },
   "outputs": [
    {
     "name": "stdout",
     "output_type": "stream",
     "text": [
      "count                      10000\n",
      "unique                        10\n",
      "top       YB5N0UL9X9@hotmail.com\n",
      "freq                        3087\n",
      "dtype: object\n"
     ]
    },
    {
     "data": {
      "text/plain": [
       "YB5N0UL9X9@hotmail.com       0.3087\n",
       "S3V6VUMD82@gmail.com         0.2287\n",
       "UVWRLLNVVB@hotmail.com       0.1416\n",
       "YU1W7QGB9K@hotmail.com       0.0850\n",
       "C907JCJ08J@gmail.com         0.0679\n",
       "D2WNKDK8HW@yahoo.com         0.0672\n",
       "AFVY5800CJ@hotmail.com       0.0359\n",
       "ZNHBMI6T91@blueyonder.com    0.0291\n",
       "LJW20II3PU@hotmail.com       0.0245\n",
       "U0J3B56N48@yahoo.com         0.0114\n",
       "dtype: float64"
      ]
     },
     "execution_count": 138,
     "metadata": {},
     "output_type": "execute_result"
    }
   ],
   "source": [
    "generator = faker.column.FakeColumnGenerator(rows=10000,\n",
    "                                             nan_ratio=0)\n",
    "data = generator.generate(pool_kind='strings',\n",
    "                          pool_size=10,\n",
    "                          pool_kws={'email': True},\n",
    "                          freq_probs_dist_kws={'family': 'expon'},\n",
    "                          seed=12346)\n",
    "\n",
    "series = pd.Series(data)\n",
    "print(series.describe())\n",
    "series.value_counts(dropna=False) / series.shape[0]"
   ]
  },
  {
   "cell_type": "markdown",
   "metadata": {
    "ExecuteTime": {
     "end_time": "2018-03-20T12:16:37.213561Z",
     "start_time": "2018-03-20T12:16:37.175222Z"
    }
   },
   "source": [
    "### dates and (conditional) timestamps"
   ]
  },
  {
   "cell_type": "code",
   "execution_count": 139,
   "metadata": {
    "ExecuteTime": {
     "end_time": "2018-03-20T15:16:13.065130Z",
     "start_time": "2018-03-20T15:16:13.046453Z"
    }
   },
   "outputs": [
    {
     "data": {
      "text/plain": [
       "array([datetime.datetime(2016, 1, 1, 0, 0),\n",
       "       datetime.datetime(2016, 1, 2, 0, 0),\n",
       "       datetime.datetime(2016, 1, 3, 0, 0),\n",
       "       datetime.datetime(2016, 1, 4, 0, 0),\n",
       "       datetime.datetime(2016, 1, 5, 0, 0),\n",
       "       datetime.datetime(2016, 1, 6, 0, 0),\n",
       "       datetime.datetime(2016, 1, 7, 0, 0),\n",
       "       datetime.datetime(2016, 1, 8, 0, 0),\n",
       "       datetime.datetime(2016, 1, 9, 0, 0),\n",
       "       datetime.datetime(2016, 1, 10, 0, 0),\n",
       "       datetime.datetime(2016, 1, 11, 0, 0),\n",
       "       datetime.datetime(2016, 1, 12, 0, 0),\n",
       "       datetime.datetime(2016, 1, 13, 0, 0),\n",
       "       datetime.datetime(2016, 1, 14, 0, 0),\n",
       "       datetime.datetime(2016, 1, 15, 0, 0)], dtype=object)"
      ]
     },
     "execution_count": 139,
     "metadata": {},
     "output_type": "execute_result"
    }
   ],
   "source": [
    "# generate pool of dates\n",
    "dates_pool = faker.pool.FakePoolGenerator().generate(kind='dates',\n",
    "                                                     start='2016-01-01',\n",
    "                                                     end='2016-01-15',\n",
    "                                                     seed=None)\n",
    "dates_pool"
   ]
  },
  {
   "cell_type": "code",
   "execution_count": 140,
   "metadata": {
    "ExecuteTime": {
     "end_time": "2018-03-20T15:16:13.090262Z",
     "start_time": "2018-03-20T15:16:13.066667Z"
    }
   },
   "outputs": [
    {
     "name": "stdout",
     "output_type": "stream",
     "text": [
      "count                    9000\n",
      "unique                     15\n",
      "top       2016-01-06 00:00:00\n",
      "freq                      659\n",
      "first     2016-01-01 00:00:00\n",
      "last      2016-01-15 00:00:00\n",
      "dtype: object\n"
     ]
    },
    {
     "data": {
      "text/plain": [
       "0          NaT\n",
       "1   2016-01-02\n",
       "2   2016-01-15\n",
       "3   2016-01-01\n",
       "4   2016-01-11\n",
       "5   2016-01-06\n",
       "6   2016-01-03\n",
       "7   2016-01-02\n",
       "8   2016-01-05\n",
       "9   2016-01-03\n",
       "dtype: datetime64[ns]"
      ]
     },
     "execution_count": 140,
     "metadata": {},
     "output_type": "execute_result"
    }
   ],
   "source": [
    "# generate dates_records uniformly distributed\n",
    "generator = faker.column.FakeColumnGenerator(rows=10000,\n",
    "                                             nan_ratio=0.1)\n",
    "dates_records = generator.generate(pool=dates_pool,\n",
    "                                   shuffle=True,\n",
    "                                   seed=12347)\n",
    "\n",
    "dates_records = pd.Series(dates_records)\n",
    "print(dates_records.describe())\n",
    "dates_records[0:10]"
   ]
  },
  {
   "cell_type": "code",
   "execution_count": 141,
   "metadata": {
    "ExecuteTime": {
     "end_time": "2018-03-20T15:16:13.599675Z",
     "start_time": "2018-03-20T15:16:13.091838Z"
    },
    "scrolled": false
   },
   "outputs": [
    {
     "name": "stdout",
     "output_type": "stream",
     "text": [
      "count                    9000\n",
      "unique                   8956\n",
      "top       2016-01-10 03:17:58\n",
      "freq                        2\n",
      "first     2016-01-01 00:01:21\n",
      "last      2016-01-15 23:59:20\n",
      "dtype: object\n"
     ]
    }
   ],
   "source": [
    "generator = faker.column.FakeColumnGenerator(rows=dates_records.shape[0],\n",
    "                                             nan_ratio=0)\n",
    "tstamp_records = generator.generate(pool_kind='tstamps',\n",
    "                                    pool_kws={'for_dates': dates_records},\n",
    "                                    conditional=True,\n",
    "                                    seed=12346)\n",
    "\n",
    "tstamp_records = pd.Series(tstamp_records)\n",
    "print(tstamp_records.describe())"
   ]
  },
  {
   "cell_type": "code",
   "execution_count": 142,
   "metadata": {
    "ExecuteTime": {
     "end_time": "2018-03-20T15:16:13.621793Z",
     "start_time": "2018-03-20T15:16:13.601254Z"
    }
   },
   "outputs": [
    {
     "data": {
      "text/html": [
       "<div>\n",
       "<style scoped>\n",
       "    .dataframe tbody tr th:only-of-type {\n",
       "        vertical-align: middle;\n",
       "    }\n",
       "\n",
       "    .dataframe tbody tr th {\n",
       "        vertical-align: top;\n",
       "    }\n",
       "\n",
       "    .dataframe thead th {\n",
       "        text-align: right;\n",
       "    }\n",
       "</style>\n",
       "<table border=\"1\" class=\"dataframe\">\n",
       "  <thead>\n",
       "    <tr style=\"text-align: right;\">\n",
       "      <th></th>\n",
       "      <th>event_date</th>\n",
       "      <th>event_tstamp</th>\n",
       "    </tr>\n",
       "  </thead>\n",
       "  <tbody>\n",
       "    <tr>\n",
       "      <th>0</th>\n",
       "      <td>NaT</td>\n",
       "      <td>NaT</td>\n",
       "    </tr>\n",
       "    <tr>\n",
       "      <th>1</th>\n",
       "      <td>2016-01-02</td>\n",
       "      <td>2016-01-02 07:56:26</td>\n",
       "    </tr>\n",
       "    <tr>\n",
       "      <th>2</th>\n",
       "      <td>2016-01-15</td>\n",
       "      <td>2016-01-15 17:00:14</td>\n",
       "    </tr>\n",
       "    <tr>\n",
       "      <th>3</th>\n",
       "      <td>2016-01-01</td>\n",
       "      <td>2016-01-01 03:47:46</td>\n",
       "    </tr>\n",
       "    <tr>\n",
       "      <th>4</th>\n",
       "      <td>2016-01-11</td>\n",
       "      <td>2016-01-11 09:45:44</td>\n",
       "    </tr>\n",
       "    <tr>\n",
       "      <th>5</th>\n",
       "      <td>2016-01-06</td>\n",
       "      <td>2016-01-06 10:35:00</td>\n",
       "    </tr>\n",
       "    <tr>\n",
       "      <th>6</th>\n",
       "      <td>2016-01-03</td>\n",
       "      <td>2016-01-03 09:28:48</td>\n",
       "    </tr>\n",
       "    <tr>\n",
       "      <th>7</th>\n",
       "      <td>2016-01-02</td>\n",
       "      <td>2016-01-02 01:30:27</td>\n",
       "    </tr>\n",
       "    <tr>\n",
       "      <th>8</th>\n",
       "      <td>2016-01-05</td>\n",
       "      <td>2016-01-05 17:52:30</td>\n",
       "    </tr>\n",
       "    <tr>\n",
       "      <th>9</th>\n",
       "      <td>2016-01-03</td>\n",
       "      <td>2016-01-03 05:23:01</td>\n",
       "    </tr>\n",
       "  </tbody>\n",
       "</table>\n",
       "</div>"
      ],
      "text/plain": [
       "  event_date        event_tstamp\n",
       "0        NaT                 NaT\n",
       "1 2016-01-02 2016-01-02 07:56:26\n",
       "2 2016-01-15 2016-01-15 17:00:14\n",
       "3 2016-01-01 2016-01-01 03:47:46\n",
       "4 2016-01-11 2016-01-11 09:45:44\n",
       "5 2016-01-06 2016-01-06 10:35:00\n",
       "6 2016-01-03 2016-01-03 09:28:48\n",
       "7 2016-01-02 2016-01-02 01:30:27\n",
       "8 2016-01-05 2016-01-05 17:52:30\n",
       "9 2016-01-03 2016-01-03 05:23:01"
      ]
     },
     "execution_count": 142,
     "metadata": {},
     "output_type": "execute_result"
    }
   ],
   "source": [
    "df = pd.concat([dates_records, tstamp_records], axis=1)\n",
    "df.columns = ['event_date', 'event_tstamp']\n",
    "df.head(10)"
   ]
  },
  {
   "cell_type": "markdown",
   "metadata": {
    "ExecuteTime": {
     "end_time": "2018-03-20T13:33:42.512612Z",
     "start_time": "2018-03-20T13:33:42.496763Z"
    }
   },
   "source": [
    "### nested categories"
   ]
  },
  {
   "cell_type": "markdown",
   "metadata": {},
   "source": [
    "#### level 1 - country"
   ]
  },
  {
   "cell_type": "code",
   "execution_count": 143,
   "metadata": {
    "ExecuteTime": {
     "end_time": "2018-03-20T15:16:13.657650Z",
     "start_time": "2018-03-20T15:16:13.623422Z"
    }
   },
   "outputs": [
    {
     "name": "stdout",
     "output_type": "stream",
     "text": [
      "count     10000\n",
      "unique        7\n",
      "top          UK\n",
      "freq       2571\n",
      "dtype: object\n"
     ]
    },
    {
     "data": {
      "text/plain": [
       "UK    0.2571\n",
       "DE    0.1585\n",
       "FR    0.1408\n",
       "US    0.1347\n",
       "ES    0.1265\n",
       "IT    0.1247\n",
       "BE    0.0577\n",
       "dtype: float64"
      ]
     },
     "execution_count": 143,
     "metadata": {},
     "output_type": "execute_result"
    }
   ],
   "source": [
    "generator = faker.column.FakeColumnGenerator(rows=10000)\n",
    "data = generator.generate(pool=np.array(['UK', 'DE', 'FR', 'US', 'ES', 'IT', 'BE']),\n",
    "                          freq_probs_dist_kws={'family': 'beta', 'a': 1, 'b': 10},\n",
    "                          seed=12347)\n",
    "\n",
    "series = pd.Series(data)\n",
    "print(series.describe())\n",
    "series.value_counts(dropna=False) / series.shape[0]"
   ]
  },
  {
   "cell_type": "code",
   "execution_count": 144,
   "metadata": {
    "ExecuteTime": {
     "end_time": "2018-03-20T15:16:13.678721Z",
     "start_time": "2018-03-20T15:16:13.659226Z"
    }
   },
   "outputs": [
    {
     "data": {
      "text/html": [
       "<div>\n",
       "<style scoped>\n",
       "    .dataframe tbody tr th:only-of-type {\n",
       "        vertical-align: middle;\n",
       "    }\n",
       "\n",
       "    .dataframe tbody tr th {\n",
       "        vertical-align: top;\n",
       "    }\n",
       "\n",
       "    .dataframe thead th {\n",
       "        text-align: right;\n",
       "    }\n",
       "</style>\n",
       "<table border=\"1\" class=\"dataframe\">\n",
       "  <thead>\n",
       "    <tr style=\"text-align: right;\">\n",
       "      <th></th>\n",
       "      <th>country</th>\n",
       "      <th>obs</th>\n",
       "    </tr>\n",
       "  </thead>\n",
       "  <tbody>\n",
       "    <tr>\n",
       "      <th>0</th>\n",
       "      <td>ES</td>\n",
       "      <td>1</td>\n",
       "    </tr>\n",
       "    <tr>\n",
       "      <th>1</th>\n",
       "      <td>FR</td>\n",
       "      <td>1</td>\n",
       "    </tr>\n",
       "    <tr>\n",
       "      <th>2</th>\n",
       "      <td>UK</td>\n",
       "      <td>1</td>\n",
       "    </tr>\n",
       "    <tr>\n",
       "      <th>3</th>\n",
       "      <td>FR</td>\n",
       "      <td>1</td>\n",
       "    </tr>\n",
       "    <tr>\n",
       "      <th>4</th>\n",
       "      <td>US</td>\n",
       "      <td>1</td>\n",
       "    </tr>\n",
       "  </tbody>\n",
       "</table>\n",
       "</div>"
      ],
      "text/plain": [
       "  country  obs\n",
       "0      ES    1\n",
       "1      FR    1\n",
       "2      UK    1\n",
       "3      FR    1\n",
       "4      US    1"
      ]
     },
     "execution_count": 144,
     "metadata": {},
     "output_type": "execute_result"
    }
   ],
   "source": [
    "df = series.to_frame()\n",
    "df.columns = ['country']\n",
    "df['obs'] = 1\n",
    "df.head()"
   ]
  },
  {
   "cell_type": "code",
   "execution_count": 145,
   "metadata": {
    "ExecuteTime": {
     "end_time": "2018-03-20T15:16:13.701705Z",
     "start_time": "2018-03-20T15:16:13.680235Z"
    }
   },
   "outputs": [
    {
     "data": {
      "text/html": [
       "<div>\n",
       "<style scoped>\n",
       "    .dataframe tbody tr th:only-of-type {\n",
       "        vertical-align: middle;\n",
       "    }\n",
       "\n",
       "    .dataframe tbody tr th {\n",
       "        vertical-align: top;\n",
       "    }\n",
       "\n",
       "    .dataframe thead th {\n",
       "        text-align: right;\n",
       "    }\n",
       "</style>\n",
       "<table border=\"1\" class=\"dataframe\">\n",
       "  <thead>\n",
       "    <tr style=\"text-align: right;\">\n",
       "      <th></th>\n",
       "      <th>len</th>\n",
       "    </tr>\n",
       "    <tr>\n",
       "      <th>country</th>\n",
       "      <th></th>\n",
       "    </tr>\n",
       "  </thead>\n",
       "  <tbody>\n",
       "    <tr>\n",
       "      <th>UK</th>\n",
       "      <td>2571</td>\n",
       "    </tr>\n",
       "    <tr>\n",
       "      <th>DE</th>\n",
       "      <td>1585</td>\n",
       "    </tr>\n",
       "    <tr>\n",
       "      <th>FR</th>\n",
       "      <td>1408</td>\n",
       "    </tr>\n",
       "    <tr>\n",
       "      <th>US</th>\n",
       "      <td>1347</td>\n",
       "    </tr>\n",
       "    <tr>\n",
       "      <th>ES</th>\n",
       "      <td>1265</td>\n",
       "    </tr>\n",
       "    <tr>\n",
       "      <th>IT</th>\n",
       "      <td>1247</td>\n",
       "    </tr>\n",
       "    <tr>\n",
       "      <th>BE</th>\n",
       "      <td>577</td>\n",
       "    </tr>\n",
       "  </tbody>\n",
       "</table>\n",
       "</div>"
      ],
      "text/plain": [
       "          len\n",
       "country      \n",
       "UK       2571\n",
       "DE       1585\n",
       "FR       1408\n",
       "US       1347\n",
       "ES       1265\n",
       "IT       1247\n",
       "BE        577"
      ]
     },
     "execution_count": 145,
     "metadata": {},
     "output_type": "execute_result"
    }
   ],
   "source": [
    "gb = df.groupby(['country']).agg([len])['obs'].sort_values(by=['len'], ascending=False)\n",
    "gb"
   ]
  },
  {
   "cell_type": "code",
   "execution_count": 146,
   "metadata": {
    "ExecuteTime": {
     "end_time": "2018-03-20T15:16:13.826362Z",
     "start_time": "2018-03-20T15:16:13.703295Z"
    }
   },
   "outputs": [
    {
     "data": {
      "text/plain": [
       "<seaborn.axisgrid.FacetGrid at 0x7f456ed60f60>"
      ]
     },
     "execution_count": 146,
     "metadata": {},
     "output_type": "execute_result"
    },
    {
     "data": {
      "image/png": "[encoded data removed]",
      "text/plain": [
       "<Figure size 288x288 with 1 Axes>"
      ]
     },
     "metadata": {},
     "output_type": "display_data"
    }
   ],
   "source": [
    "df = dsutils.pandas.cats.reorder_levels_by_estimate(df=df,\n",
    "                                                    category='country',\n",
    "                                                    measure='obs',\n",
    "                                                    estimator=len,\n",
    "                                                    sort='desc',\n",
    "                                                    recast=True)\n",
    "\n",
    "sns.factorplot(kind='bar',\n",
    "               data=df,\n",
    "               x='country',\n",
    "               y='obs',\n",
    "               estimator=len,\n",
    "               ci=None)"
   ]
  },
  {
   "cell_type": "code",
   "execution_count": 147,
   "metadata": {
    "ExecuteTime": {
     "end_time": "2018-03-20T15:16:13.847912Z",
     "start_time": "2018-03-20T15:16:13.827980Z"
    }
   },
   "outputs": [
    {
     "data": {
      "text/html": [
       "<div>\n",
       "<style scoped>\n",
       "    .dataframe tbody tr th:only-of-type {\n",
       "        vertical-align: middle;\n",
       "    }\n",
       "\n",
       "    .dataframe tbody tr th {\n",
       "        vertical-align: top;\n",
       "    }\n",
       "\n",
       "    .dataframe thead th {\n",
       "        text-align: right;\n",
       "    }\n",
       "</style>\n",
       "<table border=\"1\" class=\"dataframe\">\n",
       "  <thead>\n",
       "    <tr style=\"text-align: right;\">\n",
       "      <th></th>\n",
       "      <th>country</th>\n",
       "      <th>observations</th>\n",
       "    </tr>\n",
       "  </thead>\n",
       "  <tbody>\n",
       "    <tr>\n",
       "      <th>0</th>\n",
       "      <td>UK</td>\n",
       "      <td>2571</td>\n",
       "    </tr>\n",
       "    <tr>\n",
       "      <th>1</th>\n",
       "      <td>DE</td>\n",
       "      <td>1585</td>\n",
       "    </tr>\n",
       "    <tr>\n",
       "      <th>2</th>\n",
       "      <td>FR</td>\n",
       "      <td>1408</td>\n",
       "    </tr>\n",
       "    <tr>\n",
       "      <th>3</th>\n",
       "      <td>US</td>\n",
       "      <td>1347</td>\n",
       "    </tr>\n",
       "    <tr>\n",
       "      <th>4</th>\n",
       "      <td>ES</td>\n",
       "      <td>1265</td>\n",
       "    </tr>\n",
       "    <tr>\n",
       "      <th>5</th>\n",
       "      <td>IT</td>\n",
       "      <td>1247</td>\n",
       "    </tr>\n",
       "    <tr>\n",
       "      <th>6</th>\n",
       "      <td>BE</td>\n",
       "      <td>577</td>\n",
       "    </tr>\n",
       "  </tbody>\n",
       "</table>\n",
       "</div>"
      ],
      "text/plain": [
       "  country  observations\n",
       "0      UK          2571\n",
       "1      DE          1585\n",
       "2      FR          1408\n",
       "3      US          1347\n",
       "4      ES          1265\n",
       "5      IT          1247\n",
       "6      BE           577"
      ]
     },
     "execution_count": 147,
     "metadata": {},
     "output_type": "execute_result"
    }
   ],
   "source": [
    "gb = gb.reset_index()\n",
    "gb.rename(columns={'len': 'observations'}, inplace=True)\n",
    "gb"
   ]
  },
  {
   "cell_type": "markdown",
   "metadata": {},
   "source": [
    "#### level 2 - channel"
   ]
  },
  {
   "cell_type": "code",
   "execution_count": 148,
   "metadata": {
    "ExecuteTime": {
     "end_time": "2018-03-20T15:16:13.877006Z",
     "start_time": "2018-03-20T15:16:13.849525Z"
    }
   },
   "outputs": [
    {
     "name": "stdout",
     "output_type": "stream",
     "text": [
      "count          2571\n",
      "unique            7\n",
      "top       ppc brand\n",
      "freq            703\n",
      "dtype: object\n"
     ]
    },
    {
     "data": {
      "text/plain": [
       "ppc brand               0.273434\n",
       "ppc non brand           0.150525\n",
       "social media organic    0.142357\n",
       "social media paid       0.141968\n",
       "email crm               0.123687\n",
       "email transactional     0.114741\n",
       "organic search          0.053287\n",
       "dtype: float64"
      ]
     },
     "execution_count": 148,
     "metadata": {},
     "output_type": "execute_result"
    }
   ],
   "source": [
    "generator = faker.column.FakeColumnGenerator(rows=2571)\n",
    "data = generator.generate(pool=np.array(['ppc brand',\n",
    "                                         'ppc non brand',\n",
    "                                         'social media organic',\n",
    "                                         'social media paid',\n",
    "                                         'email crm',\n",
    "                                         'email transactional',\n",
    "                                         'organic search']),\n",
    "                          pool_shuffle=False,\n",
    "                          freq_probs_dist_kws={'family': 'beta', 'a': 1, 'b': 10},\n",
    "                          unique=False,\n",
    "                          shuffle=False,\n",
    "                          seed=12347)\n",
    "\n",
    "series = pd.Series(data)\n",
    "print(series.describe())\n",
    "series.value_counts(dropna=False) / series.shape[0]"
   ]
  },
  {
   "cell_type": "markdown",
   "metadata": {},
   "source": [
    "## faker.data.FakeDataGenerator"
   ]
  },
  {
   "cell_type": "code",
   "execution_count": 149,
   "metadata": {
    "ExecuteTime": {
     "end_time": "2018-03-20T15:16:13.892400Z",
     "start_time": "2018-03-20T15:16:13.878605Z"
    }
   },
   "outputs": [],
   "source": [
    "rows = 10000"
   ]
  },
  {
   "cell_type": "markdown",
   "metadata": {},
   "source": [
    "### Extended dataset"
   ]
  },
  {
   "cell_type": "code",
   "execution_count": 150,
   "metadata": {
    "ExecuteTime": {
     "end_time": "2018-03-20T15:16:15.178516Z",
     "start_time": "2018-03-20T15:16:13.894100Z"
    }
   },
   "outputs": [],
   "source": [
    "df = faker.data.FakeDataGenerator(rows=rows).generate(\n",
    "    cols=[\n",
    "        dict(name='cookie_id',\n",
    "             dtype='object',\n",
    "             nan_ratio=0.1,\n",
    "             pool_kind='strings',\n",
    "             pool_kws={'length': 30},\n",
    "             pool_size=0.8,\n",
    "             pool_shuffle=True,\n",
    "             freq_probs_dist_kws={'family': 'expon'},\n",
    "             unique=False,\n",
    "             shuffle=True),\n",
    "        dict(name='user_id',\n",
    "             dtype='object',\n",
    "             nan_ratio=0.75,\n",
    "             pool_kind='ints_sequence',\n",
    "             pool_kws={'start': 1},\n",
    "             pool_size=0.8,\n",
    "             pool_shuffle=True,\n",
    "             freq_probs_dist_kws={'family': 'expon'},\n",
    "             unique=False,\n",
    "             shuffle=True),\n",
    "        dict(name='email_address',\n",
    "             dtype='object',\n",
    "             nan_ratio=0.5,\n",
    "             pool_kind='strings',\n",
    "             pool_kws={'email': True},\n",
    "             pool_size=0.8,\n",
    "             pool_shuffle=True,\n",
    "             freq_probs_dist_kws={'family': 'expon'},\n",
    "             unique=False,\n",
    "             shuffle=True),\n",
    "        dict(name='booking_date',\n",
    "             dtype='datetime64[ns]',\n",
    "             nan_ratio=0.05,\n",
    "             pool_kind='dates',\n",
    "             pool_kws={'start': '2016-01-01', 'end': '2016-01-07'},\n",
    "             unique=False,\n",
    "             shuffle=True),\n",
    "        dict(name='bookings',\n",
    "             dtype='int64',\n",
    "             pool_kind='ints_sequence',\n",
    "             pool_kws={'start': 1, 'stop': 2},\n",
    "             pool_size=2,\n",
    "             freq_probs_dist_kws={'family': 'expon'},\n",
    "             unique=False,\n",
    "             shuffle=True),\n",
    "        dict(name='email_clicks',\n",
    "             dtype='int64',\n",
    "             zero_ratio=0.1,\n",
    "             pool_kind='ints_sequence',\n",
    "             pool_kws={'start': 0, 'stop': 100},\n",
    "             pool_size=100,\n",
    "             freq_probs_dist_kws={'family': 'expon'},\n",
    "             unique=False,\n",
    "             shuffle=True),\n",
    "        dict(name='email_opens',\n",
    "             dtype='int64',\n",
    "             zero_ratio=0.1,\n",
    "             pool_kind='counts',\n",
    "             pool_size=rows,\n",
    "             pool_unique=False,\n",
    "             pool_kws=dict(gamma_kws={'a': 2,\n",
    "                                      'c': 0.4,\n",
    "                                      'loc': 0,\n",
    "                                      'scale': 4}),\n",
    "             pool_shuffle=True,\n",
    "             shuffle=True,\n",
    "             unique=True),\n",
    "        dict(name='score',\n",
    "             dtype='float64',\n",
    "             pool_kind='from_function',\n",
    "             pool_kws={'func': stats.beta.rvs,\n",
    "                       'func_kws': {'a': 20, 'b': 1},\n",
    "                       'func_seed_arg': 'random_state'},\n",
    "             pool_size=1000,\n",
    "             freq_probs_dist_kws={'family': 'expon'},\n",
    "             unique=False,\n",
    "             shuffle=True)\n",
    "    ],\n",
    "    seed=12321)"
   ]
  },
  {
   "cell_type": "code",
   "execution_count": 151,
   "metadata": {
    "ExecuteTime": {
     "end_time": "2018-03-20T15:16:15.580915Z",
     "start_time": "2018-03-20T15:16:15.180239Z"
    }
   },
   "outputs": [],
   "source": [
    "generator = faker.column.FakeColumnGenerator(rows=df.shape[0],\n",
    "                                             nan_ratio=0)\n",
    "df['booking_tstamp'] = generator.generate(\n",
    "    pool_kind='tstamps',\n",
    "    pool_kws={'for_dates': df['booking_date']},\n",
    "    conditional=True,\n",
    "    seed=12346)"
   ]
  },
  {
   "cell_type": "code",
   "execution_count": 152,
   "metadata": {
    "ExecuteTime": {
     "end_time": "2018-03-20T15:16:15.601571Z",
     "start_time": "2018-03-20T15:16:15.582454Z"
    }
   },
   "outputs": [
    {
     "data": {
      "text/html": [
       "<div>\n",
       "<style scoped>\n",
       "    .dataframe tbody tr th:only-of-type {\n",
       "        vertical-align: middle;\n",
       "    }\n",
       "\n",
       "    .dataframe tbody tr th {\n",
       "        vertical-align: top;\n",
       "    }\n",
       "\n",
       "    .dataframe thead th {\n",
       "        text-align: right;\n",
       "    }\n",
       "</style>\n",
       "<table border=\"1\" class=\"dataframe\">\n",
       "  <thead>\n",
       "    <tr style=\"text-align: right;\">\n",
       "      <th></th>\n",
       "      <th>booking_date</th>\n",
       "      <th>booking_tstamp</th>\n",
       "    </tr>\n",
       "  </thead>\n",
       "  <tbody>\n",
       "    <tr>\n",
       "      <th>0</th>\n",
       "      <td>2016-01-06</td>\n",
       "      <td>2016-01-06 16:33:36</td>\n",
       "    </tr>\n",
       "    <tr>\n",
       "      <th>1</th>\n",
       "      <td>NaT</td>\n",
       "      <td>NaT</td>\n",
       "    </tr>\n",
       "    <tr>\n",
       "      <th>2</th>\n",
       "      <td>2016-01-02</td>\n",
       "      <td>2016-01-02 17:00:14</td>\n",
       "    </tr>\n",
       "    <tr>\n",
       "      <th>3</th>\n",
       "      <td>NaT</td>\n",
       "      <td>NaT</td>\n",
       "    </tr>\n",
       "    <tr>\n",
       "      <th>4</th>\n",
       "      <td>2016-01-02</td>\n",
       "      <td>2016-01-02 09:45:44</td>\n",
       "    </tr>\n",
       "  </tbody>\n",
       "</table>\n",
       "</div>"
      ],
      "text/plain": [
       "  booking_date      booking_tstamp\n",
       "0   2016-01-06 2016-01-06 16:33:36\n",
       "1          NaT                 NaT\n",
       "2   2016-01-02 2016-01-02 17:00:14\n",
       "3          NaT                 NaT\n",
       "4   2016-01-02 2016-01-02 09:45:44"
      ]
     },
     "execution_count": 152,
     "metadata": {},
     "output_type": "execute_result"
    }
   ],
   "source": [
    "df[['booking_date', 'booking_tstamp']].head()"
   ]
  },
  {
   "cell_type": "code",
   "execution_count": 153,
   "metadata": {
    "ExecuteTime": {
     "end_time": "2018-03-20T15:16:15.618779Z",
     "start_time": "2018-03-20T15:16:15.603201Z"
    }
   },
   "outputs": [
    {
     "data": {
      "text/plain": [
       "cookie_id                 object\n",
       "user_id                   object\n",
       "email_address             object\n",
       "booking_date      datetime64[ns]\n",
       "bookings                   int64\n",
       "email_clicks               int64\n",
       "email_opens                int64\n",
       "score                    float64\n",
       "booking_tstamp    datetime64[ns]\n",
       "dtype: object"
      ]
     },
     "execution_count": 153,
     "metadata": {},
     "output_type": "execute_result"
    }
   ],
   "source": [
    "df.dtypes"
   ]
  },
  {
   "cell_type": "code",
   "execution_count": 154,
   "metadata": {
    "ExecuteTime": {
     "end_time": "2018-03-20T15:16:15.801632Z",
     "start_time": "2018-03-20T15:16:15.620247Z"
    }
   },
   "outputs": [
    {
     "name": "stderr",
     "output_type": "stream",
     "text": [
      "/home/cmardiros/anaconda3/envs/py36/lib/python3.6/site-packages/matplotlib/axes/_axes.py:6448: UserWarning: The 'normed' kwarg is deprecated, and has been replaced by the 'density' kwarg.\n",
      "  warnings.warn(\"The 'normed' kwarg is deprecated, and has been \"\n"
     ]
    },
    {
     "data": {
      "text/plain": [
       "<matplotlib.axes._subplots.AxesSubplot at 0x7f456f26f588>"
      ]
     },
     "execution_count": 154,
     "metadata": {},
     "output_type": "execute_result"
    },
    {
     "data": {
      "image/png": "[encoded data removed]",
      "text/plain": [
       "<Figure size 432x288 with 1 Axes>"
      ]
     },
     "metadata": {},
     "output_type": "display_data"
    }
   ],
   "source": [
    "sns.distplot(df['score'])"
   ]
  },
  {
   "cell_type": "code",
   "execution_count": 155,
   "metadata": {
    "ExecuteTime": {
     "end_time": "2018-03-20T15:16:15.966539Z",
     "start_time": "2018-03-20T15:16:15.803306Z"
    }
   },
   "outputs": [
    {
     "name": "stderr",
     "output_type": "stream",
     "text": [
      "/home/cmardiros/anaconda3/envs/py36/lib/python3.6/site-packages/matplotlib/axes/_axes.py:6448: UserWarning: The 'normed' kwarg is deprecated, and has been replaced by the 'density' kwarg.\n",
      "  warnings.warn(\"The 'normed' kwarg is deprecated, and has been \"\n"
     ]
    },
    {
     "data": {
      "text/plain": [
       "<matplotlib.axes._subplots.AxesSubplot at 0x7f45751b3668>"
      ]
     },
     "execution_count": 155,
     "metadata": {},
     "output_type": "execute_result"
    },
    {
     "data": {
      "image/png": "[encoded data removed]",
      "text/plain": [
       "<Figure size 432x288 with 1 Axes>"
      ]
     },
     "metadata": {},
     "output_type": "display_data"
    }
   ],
   "source": [
    "sns.distplot(df['email_opens'])"
   ]
  },
  {
   "cell_type": "code",
   "execution_count": 156,
   "metadata": {
    "ExecuteTime": {
     "end_time": "2018-03-20T15:16:16.126084Z",
     "start_time": "2018-03-20T15:16:15.968175Z"
    }
   },
   "outputs": [
    {
     "name": "stderr",
     "output_type": "stream",
     "text": [
      "/home/cmardiros/anaconda3/envs/py36/lib/python3.6/site-packages/matplotlib/axes/_axes.py:6448: UserWarning: The 'normed' kwarg is deprecated, and has been replaced by the 'density' kwarg.\n",
      "  warnings.warn(\"The 'normed' kwarg is deprecated, and has been \"\n"
     ]
    },
    {
     "data": {
      "text/plain": [
       "<matplotlib.axes._subplots.AxesSubplot at 0x7f45752afeb8>"
      ]
     },
     "execution_count": 156,
     "metadata": {},
     "output_type": "execute_result"
    },
    {
     "data": {
      "image/png": "[encoded data removed]",
      "text/plain": [
       "<Figure size 432x288 with 1 Axes>"
      ]
     },
     "metadata": {},
     "output_type": "display_data"
    }
   ],
   "source": [
    "sns.distplot(df['email_clicks'])"
   ]
  },
  {
   "cell_type": "code",
   "execution_count": 161,
   "metadata": {
    "ExecuteTime": {
     "end_time": "2018-03-20T15:18:20.247309Z",
     "start_time": "2018-03-20T15:18:15.072315Z"
    },
    "scrolled": false
   },
   "outputs": [],
   "source": [
    "%%capture\n",
    "df_many2many = faker.inspect.FakeDataInspector().pii_mapping(df)"
   ]
  },
  {
   "cell_type": "code",
   "execution_count": 164,
   "metadata": {
    "ExecuteTime": {
     "end_time": "2018-03-20T15:20:07.688095Z",
     "start_time": "2018-03-20T15:20:07.664553Z"
    }
   },
   "outputs": [
    {
     "data": {
      "text/html": [
       "<div>\n",
       "<style scoped>\n",
       "    .dataframe tbody tr th:only-of-type {\n",
       "        vertical-align: middle;\n",
       "    }\n",
       "\n",
       "    .dataframe tbody tr th {\n",
       "        vertical-align: top;\n",
       "    }\n",
       "\n",
       "    .dataframe thead th {\n",
       "        text-align: right;\n",
       "    }\n",
       "</style>\n",
       "<table border=\"1\" class=\"dataframe\">\n",
       "  <thead>\n",
       "    <tr style=\"text-align: right;\">\n",
       "      <th></th>\n",
       "      <th>cookie_id</th>\n",
       "      <th>user_id</th>\n",
       "      <th>email_address</th>\n",
       "    </tr>\n",
       "  </thead>\n",
       "  <tbody>\n",
       "    <tr>\n",
       "      <th>7846</th>\n",
       "      <td>00JFI94NFMYTHDDUOL5LMJBMNV8SGC</td>\n",
       "      <td>684</td>\n",
       "      <td>98IGIM9YJK@yahoo.com</td>\n",
       "    </tr>\n",
       "    <tr>\n",
       "      <th>6949</th>\n",
       "      <td>00JFI94NFMYTHDDUOL5LMJBMNV8SGC</td>\n",
       "      <td>1691</td>\n",
       "      <td>6E2M87QOGK@hotmail.com</td>\n",
       "    </tr>\n",
       "    <tr>\n",
       "      <th>4035</th>\n",
       "      <td>00JFI94NFMYTHDDUOL5LMJBMNV8SGC</td>\n",
       "      <td>1929</td>\n",
       "      <td>NaN</td>\n",
       "    </tr>\n",
       "    <tr>\n",
       "      <th>7563</th>\n",
       "      <td>00JFI94NFMYTHDDUOL5LMJBMNV8SGC</td>\n",
       "      <td>1969</td>\n",
       "      <td>SF2RTEC90I@blueyonder.com</td>\n",
       "    </tr>\n",
       "    <tr>\n",
       "      <th>9970</th>\n",
       "      <td>00JFI94NFMYTHDDUOL5LMJBMNV8SGC</td>\n",
       "      <td>NaN</td>\n",
       "      <td>69D681KDKG@gmail.com</td>\n",
       "    </tr>\n",
       "    <tr>\n",
       "      <th>8859</th>\n",
       "      <td>00JFI94NFMYTHDDUOL5LMJBMNV8SGC</td>\n",
       "      <td>NaN</td>\n",
       "      <td>KK31J55SX7@gmail.com</td>\n",
       "    </tr>\n",
       "    <tr>\n",
       "      <th>7881</th>\n",
       "      <td>00JFI94NFMYTHDDUOL5LMJBMNV8SGC</td>\n",
       "      <td>NaN</td>\n",
       "      <td>L0CN7BA5ZB@yahoo.com</td>\n",
       "    </tr>\n",
       "    <tr>\n",
       "      <th>4875</th>\n",
       "      <td>00JFI94NFMYTHDDUOL5LMJBMNV8SGC</td>\n",
       "      <td>NaN</td>\n",
       "      <td>NaN</td>\n",
       "    </tr>\n",
       "    <tr>\n",
       "      <th>423</th>\n",
       "      <td>00JFI94NFMYTHDDUOL5LMJBMNV8SGC</td>\n",
       "      <td>NaN</td>\n",
       "      <td>NaN</td>\n",
       "    </tr>\n",
       "    <tr>\n",
       "      <th>5682</th>\n",
       "      <td>00LJ0KPWSND4M52LTG1VWIM3BA4OHY</td>\n",
       "      <td>90</td>\n",
       "      <td>NaN</td>\n",
       "    </tr>\n",
       "    <tr>\n",
       "      <th>5951</th>\n",
       "      <td>00LJ0KPWSND4M52LTG1VWIM3BA4OHY</td>\n",
       "      <td>775</td>\n",
       "      <td>8TD41VCWZS@gmail.com</td>\n",
       "    </tr>\n",
       "    <tr>\n",
       "      <th>3497</th>\n",
       "      <td>00LJ0KPWSND4M52LTG1VWIM3BA4OHY</td>\n",
       "      <td>1926</td>\n",
       "      <td>NaN</td>\n",
       "    </tr>\n",
       "    <tr>\n",
       "      <th>2806</th>\n",
       "      <td>00LJ0KPWSND4M52LTG1VWIM3BA4OHY</td>\n",
       "      <td>NaN</td>\n",
       "      <td>02JFX4JRU5@hotmail.com</td>\n",
       "    </tr>\n",
       "    <tr>\n",
       "      <th>489</th>\n",
       "      <td>00LJ0KPWSND4M52LTG1VWIM3BA4OHY</td>\n",
       "      <td>NaN</td>\n",
       "      <td>IXR5Y9QSZV@hotmail.com</td>\n",
       "    </tr>\n",
       "    <tr>\n",
       "      <th>9161</th>\n",
       "      <td>00LJ0KPWSND4M52LTG1VWIM3BA4OHY</td>\n",
       "      <td>NaN</td>\n",
       "      <td>OTF3VAU53E@gmail.com</td>\n",
       "    </tr>\n",
       "    <tr>\n",
       "      <th>6672</th>\n",
       "      <td>00LJ0KPWSND4M52LTG1VWIM3BA4OHY</td>\n",
       "      <td>NaN</td>\n",
       "      <td>ZNHBMI6T91@blueyonder.com</td>\n",
       "    </tr>\n",
       "    <tr>\n",
       "      <th>8882</th>\n",
       "      <td>00LJ0KPWSND4M52LTG1VWIM3BA4OHY</td>\n",
       "      <td>NaN</td>\n",
       "      <td>NaN</td>\n",
       "    </tr>\n",
       "    <tr>\n",
       "      <th>1387</th>\n",
       "      <td>00LJ0KPWSND4M52LTG1VWIM3BA4OHY</td>\n",
       "      <td>NaN</td>\n",
       "      <td>NaN</td>\n",
       "    </tr>\n",
       "    <tr>\n",
       "      <th>6301</th>\n",
       "      <td>00XVN9ZGVQFZ8QD2OYXWZG5G8GYRON</td>\n",
       "      <td>NaN</td>\n",
       "      <td>0M9W0169TF@gmail.com</td>\n",
       "    </tr>\n",
       "    <tr>\n",
       "      <th>5709</th>\n",
       "      <td>00XVN9ZGVQFZ8QD2OYXWZG5G8GYRON</td>\n",
       "      <td>NaN</td>\n",
       "      <td>M5FKW8PO14@hotmail.com</td>\n",
       "    </tr>\n",
       "  </tbody>\n",
       "</table>\n",
       "</div>"
      ],
      "text/plain": [
       "                           cookie_id user_id              email_address\n",
       "7846  00JFI94NFMYTHDDUOL5LMJBMNV8SGC     684       98IGIM9YJK@yahoo.com\n",
       "6949  00JFI94NFMYTHDDUOL5LMJBMNV8SGC    1691     6E2M87QOGK@hotmail.com\n",
       "4035  00JFI94NFMYTHDDUOL5LMJBMNV8SGC    1929                        NaN\n",
       "7563  00JFI94NFMYTHDDUOL5LMJBMNV8SGC    1969  SF2RTEC90I@blueyonder.com\n",
       "9970  00JFI94NFMYTHDDUOL5LMJBMNV8SGC     NaN       69D681KDKG@gmail.com\n",
       "8859  00JFI94NFMYTHDDUOL5LMJBMNV8SGC     NaN       KK31J55SX7@gmail.com\n",
       "7881  00JFI94NFMYTHDDUOL5LMJBMNV8SGC     NaN       L0CN7BA5ZB@yahoo.com\n",
       "4875  00JFI94NFMYTHDDUOL5LMJBMNV8SGC     NaN                        NaN\n",
       "423   00JFI94NFMYTHDDUOL5LMJBMNV8SGC     NaN                        NaN\n",
       "5682  00LJ0KPWSND4M52LTG1VWIM3BA4OHY      90                        NaN\n",
       "5951  00LJ0KPWSND4M52LTG1VWIM3BA4OHY     775       8TD41VCWZS@gmail.com\n",
       "3497  00LJ0KPWSND4M52LTG1VWIM3BA4OHY    1926                        NaN\n",
       "2806  00LJ0KPWSND4M52LTG1VWIM3BA4OHY     NaN     02JFX4JRU5@hotmail.com\n",
       "489   00LJ0KPWSND4M52LTG1VWIM3BA4OHY     NaN     IXR5Y9QSZV@hotmail.com\n",
       "9161  00LJ0KPWSND4M52LTG1VWIM3BA4OHY     NaN       OTF3VAU53E@gmail.com\n",
       "6672  00LJ0KPWSND4M52LTG1VWIM3BA4OHY     NaN  ZNHBMI6T91@blueyonder.com\n",
       "8882  00LJ0KPWSND4M52LTG1VWIM3BA4OHY     NaN                        NaN\n",
       "1387  00LJ0KPWSND4M52LTG1VWIM3BA4OHY     NaN                        NaN\n",
       "6301  00XVN9ZGVQFZ8QD2OYXWZG5G8GYRON     NaN       0M9W0169TF@gmail.com\n",
       "5709  00XVN9ZGVQFZ8QD2OYXWZG5G8GYRON     NaN     M5FKW8PO14@hotmail.com"
      ]
     },
     "execution_count": 164,
     "metadata": {},
     "output_type": "execute_result"
    }
   ],
   "source": [
    "df_many2many[['cookie_id', 'user_id', 'email_address']].head(20)"
   ]
  },
  {
   "cell_type": "code",
   "execution_count": null,
   "metadata": {},
   "outputs": [],
   "source": []
  }
 ],
 "metadata": {
  "hide_input": false,
  "kernelspec": {
   "display_name": "Python [conda env:py36]",
   "language": "python",
   "name": "conda-env-py36-py"
  },
  "language_info": {
   "codemirror_mode": {
    "name": "ipython",
    "version": 3
   },
   "file_extension": ".py",
   "mimetype": "text/x-python",
   "name": "python",
   "nbconvert_exporter": "python",
   "pygments_lexer": "ipython3",
   "version": "3.6.4"
  },
  "notify_time": "10",
  "toc": {
   "nav_menu": {
    "height": "507px",
    "width": "302px"
   },
   "number_sections": false,
   "sideBar": true,
   "skip_h1_title": false,
   "title_cell": "Table of Contents",
   "title_sidebar": "Contents",
   "toc_cell": true,
   "toc_position": {
    "height": "calc(100% - 180px)",
    "left": "10px",
    "top": "150px",
    "width": "288px"
   },
   "toc_section_display": true,
   "toc_window_display": true
  }
 },
 "nbformat": 4,
 "nbformat_minor": 2
}
